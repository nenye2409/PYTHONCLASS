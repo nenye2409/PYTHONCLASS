{
 "cells": [
  {
   "cell_type": "code",
   "execution_count": 9,
   "id": "935b6987",
   "metadata": {},
   "outputs": [
    {
     "name": "stdout",
     "output_type": "stream",
     "text": [
      "[1, 2, 3, 4, 5, 6]\n"
     ]
    }
   ],
   "source": [
    "# list of integers appending the num 6 at the end\n",
    "num = [1,2,3,4,5]\n",
    "num.append(6)\n",
    "print(num)"
   ]
  },
  {
   "cell_type": "code",
   "execution_count": 10,
   "id": "a5da085b",
   "metadata": {},
   "outputs": [
    {
     "name": "stdout",
     "output_type": "stream",
     "text": [
      "8\n"
     ]
    }
   ],
   "source": [
    "3 finding the length of a python\n",
    "num = [10,23,13,14,24,15,30,45]\n",
    "print(len(num))"
   ]
  },
  {
   "cell_type": "code",
   "execution_count": 11,
   "id": "1cf4ab59",
   "metadata": {},
   "outputs": [
    {
     "name": "stdout",
     "output_type": "stream",
     "text": [
      "['Orange', 'Guava', 'Lemon', 'Watermelon', 'Apple', 'Pear']\n"
     ]
    }
   ],
   "source": [
    "# to remove a specific fruit from a list\n",
    "fruits = ['Orange','Guava','Lemon','Pineapple','Watermelon','Apple','Pear']\n",
    "fruits.remove('Pineapple')\n",
    "print(fruits)"
   ]
  },
  {
   "cell_type": "code",
   "execution_count": 12,
   "id": "3b3da35f",
   "metadata": {},
   "outputs": [
    {
     "name": "stdout",
     "output_type": "stream",
     "text": [
      "True\n"
     ]
    }
   ],
   "source": [
    "#  to check if a particular element exist in a list\n",
    "num = [10,23,13,14,24,15,30,45]\n",
    "print(60 not in num)\n"
   ]
  },
  {
   "cell_type": "code",
   "execution_count": 14,
   "id": "89604067",
   "metadata": {},
   "outputs": [
    {
     "name": "stdout",
     "output_type": "stream",
     "text": [
      "10\n",
      "45\n"
     ]
    }
   ],
   "source": [
    "# to find maximum and minimum values in list\n",
    "num = [10,23,13,14,24,15,30,45]\n",
    "min_value = min(num)\n",
    "max_value = max(num)\n",
    "print(min_value)\n",
    "print(max_value)"
   ]
  },
  {
   "cell_type": "code",
   "execution_count": 21,
   "id": "d0308723",
   "metadata": {},
   "outputs": [
    {
     "name": "stdout",
     "output_type": "stream",
     "text": [
      "[23, 50, 65, 82, 100]\n"
     ]
    }
   ],
   "source": [
    "# how to sort names in alphabetical order\n",
    "listnum = [100, 50, 65, 82, 23]\n",
    "listnum.sort()\n",
    "print(listnum)"
   ]
  },
  {
   "cell_type": "code",
   "execution_count": 23,
   "id": "f4143507",
   "metadata": {},
   "outputs": [
    {
     "name": "stdout",
     "output_type": "stream",
     "text": [
      "[100, 82, 65, 50, 23]\n"
     ]
    }
   ],
   "source": [
    "# to reverse the elements of a list\n",
    "listnum = [100, 50, 65, 82, 23]\n",
    "listnum.sort(reverse = True)\n",
    "print(listnum)"
   ]
  },
  {
   "cell_type": "code",
   "execution_count": 18,
   "id": "336fac4c",
   "metadata": {},
   "outputs": [
    {
     "name": "stdout",
     "output_type": "stream",
     "text": [
      "['Orange', 'Guava', 'Lemon', 'Apple', 'Pineapple', 'Watermelon']\n"
     ]
    }
   ],
   "source": [
    "# how to remove duplicate elements\n",
    "fruits = ['Orange','Guava','Orange','Lemon','Apple','Pineapple','Watermelon','Apple','Lemon']\n",
    "fruits = list(dict.fromkeys(fruits))\n",
    "print(fruits)"
   ]
  },
  {
   "cell_type": "code",
   "execution_count": 24,
   "id": "e9e037ad",
   "metadata": {},
   "outputs": [
    {
     "name": "stdout",
     "output_type": "stream",
     "text": [
      "['Obi', 'Ada', 'Linda', 'Joshua', 'Gozie', 'Nenye']\n"
     ]
    }
   ],
   "source": [
    "# to join two lists to create a new list\n",
    "name1 = ['Obi','Ada','Linda']\n",
    "name2 = ['Joshua','Gozie', 'Nenye']\n",
    "names = name1 + name2\n",
    "print(names)"
   ]
  },
  {
   "cell_type": "code",
   "execution_count": 7,
   "id": "7e4d9d59",
   "metadata": {},
   "outputs": [
    {
     "name": "stdout",
     "output_type": "stream",
     "text": [
      "19\n"
     ]
    }
   ],
   "source": [
    "# Tuples with three elements\n",
    "tuplenum = [10,24,19]\n",
    "print(tuplenum[2])\n"
   ]
  },
  {
   "cell_type": "code",
   "execution_count": 1,
   "id": "7067d89e",
   "metadata": {},
   "outputs": [],
   "source": [
    "# the element in a tuple can't be modified"
   ]
  },
  {
   "cell_type": "code",
   "execution_count": null,
   "id": "292f8b05",
   "metadata": {},
   "outputs": [],
   "source": [
    "# to find the index of a particular value: the first item has index 0"
   ]
  },
  {
   "cell_type": "code",
   "execution_count": 4,
   "id": "70f38c09",
   "metadata": {},
   "outputs": [],
   "source": [
    "# yes a tuple can be converted into a list "
   ]
  },
  {
   "cell_type": "code",
   "execution_count": 10,
   "id": "666571e0",
   "metadata": {},
   "outputs": [
    {
     "name": "stdout",
     "output_type": "stream",
     "text": [
      "4\n"
     ]
    }
   ],
   "source": [
    "# to count the occurences of a specific element\n",
    "fruits = (\"apple\", \"banana\", \"cherry\",\"apple\", \"banana\", 'orange','banana','strawberry','banana')\n",
    "count = fruits.count('banana')\n",
    "print(count)"
   ]
  },
  {
   "cell_type": "code",
   "execution_count": 11,
   "id": "dd54fb17",
   "metadata": {},
   "outputs": [
    {
     "name": "stdout",
     "output_type": "stream",
     "text": [
      "apple\n",
      "cherry\n",
      "apple\n",
      "banana\n"
     ]
    }
   ],
   "source": [
    "# to unpack the element of a tuple\n",
    "fruits = (\"apple\", \"cherry\",\"apple\", \"banana\",)\n",
    "(w,x,y,z) = fruits\n",
    "print(w)\n",
    "print(x)\n",
    "print(y)\n",
    "print(z)"
   ]
  },
  {
   "cell_type": "code",
   "execution_count": 12,
   "id": "67e28666",
   "metadata": {},
   "outputs": [],
   "source": [
    "# Yes a tuple can contain elements of different data types\n",
    "namesage = ('Obi', 24, True, 'Male', 'Ada', 27, 'Female')"
   ]
  },
  {
   "cell_type": "code",
   "execution_count": 13,
   "id": "417141a0",
   "metadata": {},
   "outputs": [
    {
     "name": "stdout",
     "output_type": "stream",
     "text": [
      "False\n"
     ]
    }
   ],
   "source": [
    "# to check if a particular element exist in atuple\n",
    "numbers = (10,23,13,14,24,15,30,45)\n",
    "print(70 in numbers)"
   ]
  },
  {
   "cell_type": "code",
   "execution_count": 14,
   "id": "a1a57afb",
   "metadata": {},
   "outputs": [
    {
     "name": "stdout",
     "output_type": "stream",
     "text": [
      "10\n"
     ]
    }
   ],
   "source": [
    "# to find the lenght of a tupple\n",
    "numbers = (5,10,23,13,14,19,24,15,30,45)\n",
    "print(len(numbers))"
   ]
  },
  {
   "cell_type": "code",
   "execution_count": 1,
   "id": "89aa0c09",
   "metadata": {},
   "outputs": [
    {
     "name": "stdout",
     "output_type": "stream",
     "text": [
      "('Yellow', 'Blue', 'Green', 'Orange', 'White')\n"
     ]
    }
   ],
   "source": [
    "# to concatenate two tuple to create a new one \n",
    "colour1 = 'Yellow','Blue','Green'\n",
    "colour2 = 'Orange','White'\n",
    "colour3 = (colour1 + colour2)\n",
    "print(colour3)"
   ]
  },
  {
   "cell_type": "code",
   "execution_count": 1,
   "id": "5b7874b1",
   "metadata": {},
   "outputs": [
    {
     "name": "stdout",
     "output_type": "stream",
     "text": [
      "{'Name': 'Charles', 'Age': 24, 'City': 'Abuja'}\n"
     ]
    }
   ],
   "source": [
    "# Dictionaries: create a dictionary representing a person's information\n",
    "records = {'Name': 'Charles', 'Age': 24, 'City': 'Abuja'}\n",
    "print(records)"
   ]
  },
  {
   "cell_type": "code",
   "execution_count": 2,
   "id": "4d813aeb",
   "metadata": {},
   "outputs": [
    {
     "name": "stdout",
     "output_type": "stream",
     "text": [
      "{'Name': 'Charles', 'Age': 24, 'City': 'Abuja', 'Gender': 'Male'}\n"
     ]
    }
   ],
   "source": [
    "# to add a new key\n",
    "records['Gender'] = 'Male'\n",
    "print(records)"
   ]
  },
  {
   "cell_type": "code",
   "execution_count": 6,
   "id": "4518df09",
   "metadata": {},
   "outputs": [
    {
     "name": "stdout",
     "output_type": "stream",
     "text": [
      "dict_keys(['Name', 'Age', 'City'])\n"
     ]
    }
   ],
   "source": [
    "# to access value associated to a specific key\n",
    "print(records.keys())"
   ]
  },
  {
   "cell_type": "code",
   "execution_count": 24,
   "id": "504d2ac0",
   "metadata": {},
   "outputs": [
    {
     "name": "stdout",
     "output_type": "stream",
     "text": [
      "The 'City' key exists in the dictionary.\n"
     ]
    }
   ],
   "source": [
    "# to check if a specific key exist in a dictionary\n",
    "records = {'Name': 'Charles', 'Age': 24, 'City': 'Abuja'}\n",
    "if 'City'in records:\n",
    "     print(\"The 'City' key exists in the dictionary.\")\n",
    "else:\n",
    "     print(\"The 'City' key does not exist in the dictionary.\")"
   ]
  },
  {
   "cell_type": "code",
   "execution_count": 31,
   "id": "126da6dd",
   "metadata": {},
   "outputs": [
    {
     "name": "stdout",
     "output_type": "stream",
     "text": [
      "Yes, 'Lemon' is available.\n"
     ]
    }
   ],
   "source": [
    "fruits = {'Orange': 10,'Guava': 12,'Lemon': 25,'Pineapple':13}\n",
    "if 'Lemon' in fruits:\n",
    "    print(\"Yes, 'Lemon' is available.\")\n",
    "else:\n",
    "    print(\"No, 'Lemon' is not available.\")"
   ]
  },
  {
   "cell_type": "code",
   "execution_count": 1,
   "id": "f5ea7c89",
   "metadata": {},
   "outputs": [
    {
     "name": "stdout",
     "output_type": "stream",
     "text": [
      "{'Name': 'Charles', 'City': 'Abuja', 'Gender': 'Male'}\n"
     ]
    }
   ],
   "source": [
    "# how to remove a key-value pair\n",
    "register = {'Name': 'Charles', 'Age': 24, 'City': 'Abuja', 'Gender': 'Male'}\n",
    "register.pop('Age')\n",
    "print(register)"
   ]
  },
  {
   "cell_type": "code",
   "execution_count": 3,
   "id": "48587bd2",
   "metadata": {},
   "outputs": [
    {
     "name": "stdout",
     "output_type": "stream",
     "text": [
      "Error\n"
     ]
    }
   ],
   "source": [
    "# if a key doesn't exist in a dictionary, it will show key error... to check if a key exist;\n",
    "register = {'Name': 'Charles', 'City': 'Abuja', 'Gender': 'Male'}\n",
    "if 'Age' in register:\n",
    "    print('Exist')\n",
    "else:\n",
    "    print('Error')"
   ]
  },
  {
   "cell_type": "code",
   "execution_count": null,
   "id": "65cedb36",
   "metadata": {},
   "outputs": [],
   "source": []
  }
 ],
 "metadata": {
  "kernelspec": {
   "display_name": "Python 3 (ipykernel)",
   "language": "python",
   "name": "python3"
  },
  "language_info": {
   "codemirror_mode": {
    "name": "ipython",
    "version": 3
   },
   "file_extension": ".py",
   "mimetype": "text/x-python",
   "name": "python",
   "nbconvert_exporter": "python",
   "pygments_lexer": "ipython3",
   "version": "3.11.5"
  }
 },
 "nbformat": 4,
 "nbformat_minor": 5
}
