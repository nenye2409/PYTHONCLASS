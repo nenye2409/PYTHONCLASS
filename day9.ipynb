{
 "cells": [
  {
   "cell_type": "markdown",
   "id": "181f87d4",
   "metadata": {},
   "source": [
    "# EXERCISE\n",
    "# USING CLASS AND OBJECT WRITE A PROGRAM FOR A PHONE STORE TO TAKE IN PHONE STOCK AD DISPLAY INVENTORY\n",
    "# NOTE USE A WHILE LOOP TO MAKE IT A RUNNING SYSTEM"
   ]
  },
  {
   "cell_type": "code",
   "execution_count": null,
   "id": "4afd2453",
   "metadata": {},
   "outputs": [
    {
     "name": "stdout",
     "output_type": "stream",
     "text": [
      "1. Add a phone inventory\n",
      "2. Display Inventory\n",
      "3. Exit\n",
      "Enter your choice of operation (1/2/3)1\n",
      "Enter the brand of the phone:tec\n",
      "Enter the model of the phone:yty\n",
      "Enter the color of the phone:uuu\n",
      "Enter the price of the phone in N666\n",
      "tec yty uuu added successfully\n",
      "1. Add a phone inventory\n",
      "2. Display Inventory\n",
      "3. Exit\n",
      "Enter your choice of operation (1/2/3)2\n",
      "Inventory Details\n",
      "tec yty uuu - N666.0\n",
      "1. Add a phone inventory\n",
      "2. Display Inventory\n",
      "3. Exit\n"
     ]
    }
   ],
   "source": [
    "class PHONE:\n",
    "    def __init__(self,brand,model,color,price):\n",
    "        self.brand = brand\n",
    "        self.model = model\n",
    "        self.color = color\n",
    "        self.price = price\n",
    "    def display_info(self):\n",
    "        print(f'{self.brand} {self.model} {self.color} - N{self.price}')\n",
    "class PHONESTORE:\n",
    "    def __init__(self):\n",
    "        self.inventory = []\n",
    "    def add_stock(self,PHONE):\n",
    "        self.inventory.append(PHONE)\n",
    "        print(f'{PHONE.brand} {PHONE.model} {PHONE.color} added successfully')\n",
    "    def display(self):\n",
    "        if not self.inventory:\n",
    "            print('The inventory is empty')\n",
    "        else:\n",
    "            print('Inventory Details')\n",
    "            for phone in self.inventory:\n",
    "                phone.display_info()\n",
    "\n",
    "phone_store = PHONESTORE()\n",
    "while True:\n",
    "    print('1. Add a phone inventory\\n2. Display Inventory\\n3. Exit') \n",
    "    choice = input('Enter your choice of operation (1/2/3)')\n",
    "    if choice == '1':\n",
    "        brand = input('Enter the brand of the phone:')\n",
    "        model = input('Enter the model of the phone:')\n",
    "        color = input('Enter the color of the phone:')\n",
    "        price = float(input('Enter the price of the phone in N'))\n",
    "        phone_store.add_stock(PHONE(brand, model, color, price))\n",
    "    elif choice == '2':                             \n",
    "        phone_store.display()                         \n",
    "    elif choice == '3':\n",
    "        print('Exiting the system........')                         \n",
    "        break\n",
    "    \n",
    "                  \n",
    "        \n",
    "    \n",
    "    \n",
    "        \n",
    "         \n",
    "            \n",
    "          \n",
    "    \n",
    "       "
   ]
  },
  {
   "cell_type": "code",
   "execution_count": null,
   "id": "046ffc9b",
   "metadata": {},
   "outputs": [],
   "source": []
  }
 ],
 "metadata": {
  "kernelspec": {
   "display_name": "Python 3 (ipykernel)",
   "language": "python",
   "name": "python3"
  },
  "language_info": {
   "codemirror_mode": {
    "name": "ipython",
    "version": 3
   },
   "file_extension": ".py",
   "mimetype": "text/x-python",
   "name": "python",
   "nbconvert_exporter": "python",
   "pygments_lexer": "ipython3",
   "version": "3.11.5"
  }
 },
 "nbformat": 4,
 "nbformat_minor": 5
}
