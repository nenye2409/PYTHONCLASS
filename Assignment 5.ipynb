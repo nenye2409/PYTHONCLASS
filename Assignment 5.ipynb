{
 "cells": [
  {
   "cell_type": "code",
   "execution_count": 12,
   "id": "954d48ae",
   "metadata": {},
   "outputs": [],
   "source": [
    "class CAR_SIMULATION:\n",
    "    def __init__(self):\n",
    "        self.brand = ''\n",
    "        self.model = ''\n",
    "        self.color = ''\n",
    "        self.year = 0\n",
    "        self.speed = 0\n",
    "    def accept(self):\n",
    "        self.brand = input('Enter The Brand Of The Car:')\n",
    "        self.model = input('Enter The Model Of The Car:')\n",
    "        self.color = input('Enter The Color Of The Car:')\n",
    "        self.year = int(input('Enter The Year the Car Was Produced:'))\n",
    "        self.speed = int(input('Enter The Speed of The Car in km/hr:'))\n",
    "        carlist.append((self.brand,self.model,self.color,self.year,self.speed))\n",
    "    def start(self):\n",
    "        print('You can now start your car')\n",
    "    def change_gear(self):\n",
    "        print('If car is on, you can now change gear')\n",
    "    def accelerate(self):\n",
    "        print('Increse speed if car is running')\n",
    "    def stop(self):\n",
    "        print('The car is stopping')\n",
    "    def display(self):\n",
    "        print(f'''_______CAR DETAILS______\n",
    "BRAND: {self.brand}\n",
    "MODEL: {self.model}\n",
    "COLOR: {self.color}\n",
    "YEAR: {self.year}\n",
    "SPEED: {self.speed}\n",
    "''')\n",
    "carlist = []\n",
    "program = CAR_SIMULATION()"
   ]
  },
  {
   "cell_type": "code",
   "execution_count": 13,
   "id": "75297ac4",
   "metadata": {},
   "outputs": [
    {
     "name": "stdout",
     "output_type": "stream",
     "text": [
      "Enter The Brand Of The Car:Toyota\n",
      "Enter The Model Of The Car:Toyota Camry\n",
      "Enter The Color Of The Car:Black\n",
      "Enter The Year the Car Was Produced:2021\n",
      "Enter The Speed of The Car in km/hr:135\n"
     ]
    }
   ],
   "source": [
    "program.accept()"
   ]
  },
  {
   "cell_type": "code",
   "execution_count": 14,
   "id": "968b5096",
   "metadata": {},
   "outputs": [
    {
     "name": "stdout",
     "output_type": "stream",
     "text": [
      "_______CAR DETAILS______\n",
      "BRAND: Toyota\n",
      "MODEL: Toyota Camry\n",
      "COLOR: Black\n",
      "YEAR: 2021\n",
      "SPEED: 135\n",
      "\n"
     ]
    }
   ],
   "source": [
    "program.display()"
   ]
  },
  {
   "cell_type": "code",
   "execution_count": 15,
   "id": "f174c0ac",
   "metadata": {},
   "outputs": [
    {
     "name": "stdout",
     "output_type": "stream",
     "text": [
      "You can now start your car\n"
     ]
    }
   ],
   "source": [
    "program.start()"
   ]
  },
  {
   "cell_type": "code",
   "execution_count": null,
   "id": "2da61b07",
   "metadata": {},
   "outputs": [],
   "source": []
  }
 ],
 "metadata": {
  "kernelspec": {
   "display_name": "Python 3 (ipykernel)",
   "language": "python",
   "name": "python3"
  },
  "language_info": {
   "codemirror_mode": {
    "name": "ipython",
    "version": 3
   },
   "file_extension": ".py",
   "mimetype": "text/x-python",
   "name": "python",
   "nbconvert_exporter": "python",
   "pygments_lexer": "ipython3",
   "version": "3.11.5"
  }
 },
 "nbformat": 4,
 "nbformat_minor": 5
}
