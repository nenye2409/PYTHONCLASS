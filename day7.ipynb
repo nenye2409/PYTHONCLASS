{
 "cells": [
  {
   "cell_type": "code",
   "execution_count": 1,
   "id": "e52b4969",
   "metadata": {},
   "outputs": [
    {
     "name": "stdout",
     "output_type": "stream",
     "text": [
      "The average score of (78, 95, 69, 36, 35, 25, 67, 55, 86) is 60.67\n"
     ]
    }
   ],
   "source": [
    "# non-key word (no matter the values, do not add any key to it)\n",
    "def average(*numbers):\n",
    "    avg = sum(numbers)/len(numbers)\n",
    "    print(f'The average score of {numbers} is {round(avg,2)}')\n",
    "average(78,95,69,36,35,25,67,55,86)\n"
   ]
  },
  {
   "cell_type": "code",
   "execution_count": 2,
   "id": "5183cab9",
   "metadata": {},
   "outputs": [],
   "source": [
    "# unpacking, you can only unpack if you have function related\n",
    "score = [80,97,90,61,24]\n"
   ]
  },
  {
   "cell_type": "code",
   "execution_count": 3,
   "id": "fe079f0f",
   "metadata": {},
   "outputs": [
    {
     "name": "stdout",
     "output_type": "stream",
     "text": [
      "The average score of (80, 97, 90, 61, 24) is 70.4\n"
     ]
    }
   ],
   "source": [
    "average(*score)\n"
   ]
  },
  {
   "cell_type": "code",
   "execution_count": 4,
   "id": "d36133e4",
   "metadata": {},
   "outputs": [],
   "source": [
    "import mymodules"
   ]
  },
  {
   "cell_type": "code",
   "execution_count": 5,
   "id": "0e9ed51d",
   "metadata": {},
   "outputs": [
    {
     "name": "stdout",
     "output_type": "stream",
     "text": [
      "['__builtins__', '__cached__', '__doc__', '__file__', '__loader__', '__name__', '__package__', '__spec__', 'average', 'total']\n"
     ]
    }
   ],
   "source": [
    "print (dir(mymodules))"
   ]
  },
  {
   "cell_type": "code",
   "execution_count": 6,
   "id": "c0599b1f",
   "metadata": {},
   "outputs": [
    {
     "name": "stdout",
     "output_type": "stream",
     "text": [
      "The total score of (80, 97, 90, 61, 24, 77, 34) is 463\n"
     ]
    }
   ],
   "source": [
    "mymodules.total(80,97,90,61,24,77,34)"
   ]
  },
  {
   "cell_type": "code",
   "execution_count": 10,
   "id": "be67fb2b",
   "metadata": {},
   "outputs": [
    {
     "name": "stdout",
     "output_type": "stream",
     "text": [
      "Name : Nenye\n"
     ]
    }
   ],
   "source": [
    "# variable length of key word argument, you have to specify the key\n",
    "def records_storing(**details):\n",
    "    for key, value in details.items():\n",
    "        print(key, ':', value)\n",
    "records_storing(Name = 'Nenye')"
   ]
  },
  {
   "cell_type": "code",
   "execution_count": 11,
   "id": "e774933a",
   "metadata": {},
   "outputs": [
    {
     "data": {
      "text/plain": [
       "115"
      ]
     },
     "execution_count": 11,
     "metadata": {},
     "output_type": "execute_result"
    }
   ],
   "source": [
    "# LAMBDA function\n",
    "(lambda x,y,z: x+y*z)(15,20,5)"
   ]
  },
  {
   "cell_type": "code",
   "execution_count": 16,
   "id": "a920d4f5",
   "metadata": {},
   "outputs": [
    {
     "name": "stdout",
     "output_type": "stream",
     "text": [
      "Enter your password:Nenye104\n"
     ]
    },
    {
     "data": {
      "text/plain": [
       "'Yes Nenye104 is correct'"
      ]
     },
     "execution_count": 16,
     "metadata": {},
     "output_type": "execute_result"
    }
   ],
   "source": [
    "# use lambda to check if a password start with upper/lowercase and the length\n",
    "(lambda password: f'Yes {password} is correct' if password[0] == password[0].upper() and len(password) >=8 else 'Incorrect Password')(input('Enter your password:'))"
   ]
  },
  {
   "cell_type": "code",
   "execution_count": 20,
   "id": "255b0e2e",
   "metadata": {},
   "outputs": [
    {
     "name": "stdout",
     "output_type": "stream",
     "text": [
      "Enter the number:67\n"
     ]
    },
    {
     "data": {
      "text/plain": [
       "'67 is odd'"
      ]
     },
     "execution_count": 20,
     "metadata": {},
     "output_type": "execute_result"
    }
   ],
   "source": [
    "# write a lambda function to check if a users number is even or odd\n",
    "(lambda users_number: f'The {users_number} is even' if users_number %2==0 else f'{users_number} is odd')(int(input('Enter the number:'))) "
   ]
  },
  {
   "cell_type": "code",
   "execution_count": null,
   "id": "1675adea",
   "metadata": {},
   "outputs": [],
   "source": []
  }
 ],
 "metadata": {
  "kernelspec": {
   "display_name": "Python 3 (ipykernel)",
   "language": "python",
   "name": "python3"
  },
  "language_info": {
   "codemirror_mode": {
    "name": "ipython",
    "version": 3
   },
   "file_extension": ".py",
   "mimetype": "text/x-python",
   "name": "python",
   "nbconvert_exporter": "python",
   "pygments_lexer": "ipython3",
   "version": "3.11.5"
  }
 },
 "nbformat": 4,
 "nbformat_minor": 5
}
