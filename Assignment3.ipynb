{
 "cells": [
  {
   "cell_type": "code",
   "execution_count": 1,
   "id": "6cc5575a",
   "metadata": {},
   "outputs": [
    {
     "name": "stdout",
     "output_type": "stream",
     "text": [
      "Green light\n"
     ]
    }
   ],
   "source": [
    "# Traffic light control\n",
    "import time\n",
    "def traffic_light_time(total_time):\n",
    "    while total_time > 0:\n",
    "\n",
    "        if  total_time >= 20:\n",
    "            print('Green light')\n",
    "            total_time -= 10\n",
    "            time.sleep(10)\n",
    "            break\n",
    "        elif total_time >= 10:\n",
    "            print('Yellow light')\n",
    "            total_time -= 7\n",
    "            time.sleep(total_time)\n",
    "            break\n",
    "        else:\n",
    "            print('Red light')\n",
    "            total_time = 0\n",
    "            break\n",
    "traffic_light_time(20)\n",
    "            \n"
   ]
  },
  {
   "cell_type": "code",
   "execution_count": 18,
   "id": "4485e621",
   "metadata": {},
   "outputs": [
    {
     "name": "stdout",
     "output_type": "stream",
     "text": [
      "Current temperature: 35.26471224638074C\n",
      "Room too hot. Turning down the heat.\n",
      "adjust thermostat down\n",
      "Current temperature: 27.982555246922622C\n",
      "Room too cold. Turning up the heat.\n",
      "adjust thermostat up\n",
      "Current temperature: 27.863739383516233C\n",
      "Room too cold. Turning up the heat.\n",
      "adjust thermostat up\n",
      "Current temperature: 39.25976005989743C\n",
      "Room too hot. Turning down the heat.\n",
      "adjust thermostat down\n",
      "Current temperature: 20.834527404844067C\n",
      "Room too cold. Turning up the heat.\n",
      "adjust thermostat up\n",
      "Temperature monitoring complete.\n"
     ]
    }
   ],
   "source": [
    "# Temperature control system\n",
    "import time\n",
    "\n",
    "# Function to get current temperature (simulated with random values)\n",
    "def get_current_temperature():\n",
    "    import random\n",
    "    return random.uniform(20, 40)\n",
    "\n",
    "\n",
    "# Desired temperature range\n",
    "desired_temperature_range = (30, 35)\n",
    "\n",
    "# Simulate continuous monitoring and thermostat adjustments\n",
    "for r in range(5):  # Let's run it for 5 iterations for demonstration\n",
    "    current_temperature = get_current_temperature()\n",
    "\n",
    "    print(f\"Current temperature: {current_temperature}C\")\n",
    "\n",
    "    if current_temperature < desired_temperature_range[0]:\n",
    "        print(f\"Room too cold. Turning up the heat.\")\n",
    "        print(\"adjust thermostat up\")\n",
    "    elif current_temperature > desired_temperature_range[1]:\n",
    "        print(f\"Room too hot. Turning down the heat.\")\n",
    "        print(\"adjust thermostat down\")\n",
    "    else:\n",
    "        print(f\"Room is normal\")\n",
    "        print(\"do not adjust the thermostat\")\n",
    "\n",
    "    # Introduce a delay before the next iteration\n",
    "    time.sleep(5)\n",
    "\n",
    "print(\"Temperature monitoring complete.\")\n"
   ]
  },
  {
   "cell_type": "code",
   "execution_count": 6,
   "id": "925263bf",
   "metadata": {},
   "outputs": [],
   "source": [
    "# Inventory management \n",
    "Stock = {'Cereals': 20, 'oat':15, 'cornflakes': 18, 'milk':30}\n",
    "products_in_store =[]\n",
    "stock_level = 0\n",
    "products_in_store.update"
   ]
  },
  {
   "cell_type": "code",
   "execution_count": null,
   "id": "03697d38",
   "metadata": {},
   "outputs": [],
   "source": []
  }
 ],
 "metadata": {
  "kernelspec": {
   "display_name": "Python 3 (ipykernel)",
   "language": "python",
   "name": "python3"
  },
  "language_info": {
   "codemirror_mode": {
    "name": "ipython",
    "version": 3
   },
   "file_extension": ".py",
   "mimetype": "text/x-python",
   "name": "python",
   "nbconvert_exporter": "python",
   "pygments_lexer": "ipython3",
   "version": "3.11.5"
  }
 },
 "nbformat": 4,
 "nbformat_minor": 5
}
