{
 "cells": [
  {
   "cell_type": "code",
   "execution_count": null,
   "id": "0c0e632e",
   "metadata": {},
   "outputs": [],
   "source": [
    "while (1):\n",
    "    try:\n",
    "        num1 = int(input('Enter the first number:'))\n",
    "        num2 = int(input('Enter the second number:'))\n",
    "        calculate = (num1 // num2)\n",
    "        print(calculate)\n",
    "    except ZeroDivisionError:\n",
    "        print('Number is not divisible by zero')\n",
    "    except Exception as e:\n",
    "        print(f'An error occured: {e}')\n",
    "    "
   ]
  },
  {
   "cell_type": "code",
   "execution_count": null,
   "id": "f60b688a",
   "metadata": {},
   "outputs": [],
   "source": []
  }
 ],
 "metadata": {
  "kernelspec": {
   "display_name": "Python 3 (ipykernel)",
   "language": "python",
   "name": "python3"
  },
  "language_info": {
   "codemirror_mode": {
    "name": "ipython",
    "version": 3
   },
   "file_extension": ".py",
   "mimetype": "text/x-python",
   "name": "python",
   "nbconvert_exporter": "python",
   "pygments_lexer": "ipython3",
   "version": "3.11.5"
  }
 },
 "nbformat": 4,
 "nbformat_minor": 5
}
