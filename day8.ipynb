{
 "cells": [
  {
   "cell_type": "markdown",
   "id": "4ec90eb9",
   "metadata": {},
   "source": [
    "# object oriented programming. class:user defined blue print or prototype while object is the actual copy of the class, class has 2 properties: 1)attribute: is a state of something. 2)method: behavior of the class"
   ]
  },
  {
   "cell_type": "code",
   "execution_count": 1,
   "id": "506b181f",
   "metadata": {},
   "outputs": [],
   "source": [
    "# class"
   ]
  },
  {
   "cell_type": "code",
   "execution_count": 10,
   "id": "b4b9cd30",
   "metadata": {},
   "outputs": [],
   "source": [
    "class person:\n",
    "    attribute1 = 'Nenye'\n",
    "    attribute2 = 14\n",
    "ob = person()\n"
   ]
  },
  {
   "cell_type": "code",
   "execution_count": 11,
   "id": "12b2d134",
   "metadata": {},
   "outputs": [
    {
     "data": {
      "text/plain": [
       "'Nenye'"
      ]
     },
     "execution_count": 11,
     "metadata": {},
     "output_type": "execute_result"
    }
   ],
   "source": [
    "ob.attribute1"
   ]
  },
  {
   "cell_type": "code",
   "execution_count": 3,
   "id": "32fb7cdf",
   "metadata": {},
   "outputs": [
    {
     "data": {
      "text/plain": [
       "14"
      ]
     },
     "execution_count": 3,
     "metadata": {},
     "output_type": "execute_result"
    }
   ],
   "source": [
    "ob.attribute2"
   ]
  },
  {
   "cell_type": "code",
   "execution_count": 6,
   "id": "686fcb2c",
   "metadata": {},
   "outputs": [],
   "source": [
    "class person:\n",
    "    attribute1 = 'Nenye'\n",
    "    attribute2 = 14\n",
    "    \n",
    "    def details(self):\n",
    "        print(f'''NAME: {self.attribute1}\n",
    "AGE: {self.attribute2}\n",
    "''')\n",
    "ob = person()"
   ]
  },
  {
   "cell_type": "code",
   "execution_count": 9,
   "id": "b75f05d7",
   "metadata": {},
   "outputs": [
    {
     "name": "stdout",
     "output_type": "stream",
     "text": [
      "NAME: Nenye\n",
      "AGE: 14\n",
      "\n"
     ]
    }
   ],
   "source": [
    "ob.details()"
   ]
  },
  {
   "cell_type": "code",
   "execution_count": null,
   "id": "a5402328",
   "metadata": {},
   "outputs": [],
   "source": [
    "#weight (kg) / [height(m)]2"
   ]
  },
  {
   "cell_type": "code",
   "execution_count": null,
   "id": "7cc06e96",
   "metadata": {},
   "outputs": [],
   "source": [
    "class BMISYSTEM:\n",
    "    def __init__(self):\n",
    "        self.name = ''\n",
    "        self.gender = ''\n",
    "        self.dob = ''\n",
    "        self.height = 0.0\n",
    "        self.weight = 0.0\n",
    "        self.country = ''\n",
    "        self.continent = ''\n",
    "    def accept(self):\n",
    "        self.name = input('Enter Customer Name:')\n",
    "        self.gender = input('Enter Customer Gender:')\n",
    "        self.dob = input('Enter Customer Date of Birth [mm/dd/yy]:')\n",
    "        self.height = float(input('Enter Customer Height in meters:'))\n",
    "        self.weight = float(input('Enter Customer Weight in kg:'))\n",
    "        self.country = input('Enter Customer Country:')\n",
    "        self.continent = input('Enter Customer Continent:')\n",
    "        customerlist.append((self.name,self.gender,self.dob,self.height,self.weight,self.country,self.continent))\n",
    "    def bmisection(self):\n",
    "        cid = int(input('Enter Customer ID:'))\n",
    "        bmi = (customerlist[cid][4]/(customerlist[cid][3]**2))\n",
    "        if customerlist[cid][6] == 'Africa':\n",
    "            print(f'Your BMI is {bmi}, kindly see your doctor for advice. Your checking charge is $10')\n",
    "        elif customerlist[cid][6] == 'Europe':\n",
    "            print(f'Your BMI is {bmi}, kindly see your doctor for advice. Your checking charge is $15')\n",
    "        elif customerlist[cid][6] == 'North America':\n",
    "            print(f'Your BMI is {bmi}, kindly see your doctor for advice. Your checking charge is $20')\n",
    "        elif customerlist[cid][6] == 'South America':\n",
    "            print(f'Your BMI is {bmi}, kindly see your doctor for advice. Your checking charge is $22')\n",
    "        elif customerlist[cid][6] == 'Australia':\n",
    "            print(f'Your BMI is {bmi}, kindly see your doctor for advice. Your checking charge is $26')\n",
    "        elif customerlist[cid][6] == 'Asia':\n",
    "            print(f'Your BMI is {bmi}, kindly see your doctor for advice. Your checking charge is $30')\n",
    "    def display(self):\n",
    "        cid = int(input('Enter Customer ID:'))\n",
    "        print(f'''_____CUSTOMER DETAILS_____\n",
    "NAME: {customerlist[cid][0]}\n",
    "GENDER: {customerlist[cid][1]}\n",
    "DOB: {customerlist[cid][2]}\n",
    "HEIGHT: {customerlist[cid][3]}\n",
    "WEIGHT: {customerlist[cid][4]}\n",
    "COUNTRY: {customerlist[cid][5]}\n",
    "CONTINENT: {customerlist[cid][6]}\n",
    "''')\n",
    "customerlist = []\n",
    "program = BMISYSTEM()"
   ]
  },
  {
   "cell_type": "code",
   "execution_count": 15,
   "id": "f04fb37b",
   "metadata": {},
   "outputs": [
    {
     "name": "stdout",
     "output_type": "stream",
     "text": [
      "Enter Customer Name:Henry Obi\n",
      "Enter Customer Gender:Male\n",
      "Enter Customer Date of Birth [mm/dd/yy]:06/20/96\n",
      "Enter Customer Height in meters:1.65\n",
      "Enter Customer Weight in kg:68\n",
      "Enter Customer Country:Nigeria\n",
      "Enter Customer Continent:Africa\n"
     ]
    }
   ],
   "source": [
    "program.accept()"
   ]
  },
  {
   "cell_type": "code",
   "execution_count": 16,
   "id": "15bfd72c",
   "metadata": {},
   "outputs": [
    {
     "name": "stdout",
     "output_type": "stream",
     "text": [
      "Enter Customer ID:0\n",
      "_____CUSTOMER DETAILS_____\n",
      "NAME: Henry Obi\n",
      "GENDER: Male\n",
      "DOB: 06/20/96\n",
      "HEIGHT: 1.65\n",
      "WEIGHT: 68.0\n",
      "COUNTRY: Nigeria\n",
      "CONTINENT: Africa\n",
      "\n"
     ]
    }
   ],
   "source": [
    "program.display()"
   ]
  },
  {
   "cell_type": "code",
   "execution_count": 17,
   "id": "e7c5c9ea",
   "metadata": {},
   "outputs": [
    {
     "name": "stdout",
     "output_type": "stream",
     "text": [
      "Enter Customer ID:0\n",
      "Your BMI is 24.977043158861342, kindly see your doctor for advice. Your checking charge is $10\n"
     ]
    }
   ],
   "source": [
    "program.bmisection()"
   ]
  },
  {
   "cell_type": "code",
   "execution_count": null,
   "id": "97656836",
   "metadata": {},
   "outputs": [],
   "source": []
  }
 ],
 "metadata": {
  "kernelspec": {
   "display_name": "Python 3 (ipykernel)",
   "language": "python",
   "name": "python3"
  },
  "language_info": {
   "codemirror_mode": {
    "name": "ipython",
    "version": 3
   },
   "file_extension": ".py",
   "mimetype": "text/x-python",
   "name": "python",
   "nbconvert_exporter": "python",
   "pygments_lexer": "ipython3",
   "version": "3.11.5"
  }
 },
 "nbformat": 4,
 "nbformat_minor": 5
}
