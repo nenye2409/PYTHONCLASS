{
 "cells": [
  {
   "cell_type": "code",
   "execution_count": 1,
   "id": "71a49d64",
   "metadata": {},
   "outputs": [
    {
     "name": "stdout",
     "output_type": "stream",
     "text": [
      "['MAXYEAR', 'MINYEAR', 'UTC', '__all__', '__builtins__', '__cached__', '__doc__', '__file__', '__loader__', '__name__', '__package__', '__spec__', 'date', 'datetime', 'datetime_CAPI', 'sys', 'time', 'timedelta', 'timezone', 'tzinfo']\n"
     ]
    }
   ],
   "source": [
    "import datetime\n",
    "print(dir(datetime))"
   ]
  },
  {
   "cell_type": "code",
   "execution_count": 2,
   "id": "f824fe11",
   "metadata": {},
   "outputs": [],
   "source": [
    "# to create a normal date\n",
    "date1 = datetime.date(2022,5,25)"
   ]
  },
  {
   "cell_type": "code",
   "execution_count": 3,
   "id": "f792e5f3",
   "metadata": {},
   "outputs": [
    {
     "data": {
      "text/plain": [
       "datetime.date"
      ]
     },
     "execution_count": 3,
     "metadata": {},
     "output_type": "execute_result"
    }
   ],
   "source": [
    "type(date1)"
   ]
  },
  {
   "cell_type": "code",
   "execution_count": 5,
   "id": "31ad7ce3",
   "metadata": {},
   "outputs": [
    {
     "name": "stdout",
     "output_type": "stream",
     "text": [
      "2022\n",
      "5\n",
      "25\n",
      "2\n",
      "3\n"
     ]
    }
   ],
   "source": [
    "print(date1.year)\n",
    "print(date1.month)\n",
    "print(date1.day)\n",
    "print(date1.weekday())\n",
    "print(date1.isoweekday())"
   ]
  },
  {
   "cell_type": "code",
   "execution_count": 9,
   "id": "ff5be319",
   "metadata": {},
   "outputs": [
    {
     "name": "stdout",
     "output_type": "stream",
     "text": [
      "2023-11-22\n"
     ]
    }
   ],
   "source": [
    "# Exercise\n",
    "# Return a date in this format (2/12/23)\n",
    "currentdate = datetime.date.today()\n",
    "print(currentdate)"
   ]
  },
  {
   "cell_type": "code",
   "execution_count": 18,
   "id": "f2ada5ba",
   "metadata": {},
   "outputs": [
    {
     "data": {
      "text/plain": [
       "'11/22/2023'"
      ]
     },
     "execution_count": 18,
     "metadata": {},
     "output_type": "execute_result"
    }
   ],
   "source": [
    "# strftime: for modification of date and time\n",
    "currentdate.strftime('%m/%d/%Y')"
   ]
  },
  {
   "cell_type": "code",
   "execution_count": 21,
   "id": "66b60393",
   "metadata": {},
   "outputs": [
    {
     "data": {
      "text/plain": [
       "'22nd of November, 2023'"
      ]
     },
     "execution_count": 21,
     "metadata": {},
     "output_type": "execute_result"
    }
   ],
   "source": [
    "currentdate.strftime('%dnd of %B, %Y')"
   ]
  },
  {
   "cell_type": "code",
   "execution_count": 22,
   "id": "ca938994",
   "metadata": {},
   "outputs": [],
   "source": [
    "# Time\n",
    "time1 = datetime.time(10,45,55,7867)"
   ]
  },
  {
   "cell_type": "code",
   "execution_count": 24,
   "id": "3cf182e4",
   "metadata": {},
   "outputs": [
    {
     "name": "stdout",
     "output_type": "stream",
     "text": [
      "10\n",
      "45\n",
      "55\n",
      "7867\n"
     ]
    }
   ],
   "source": [
    "print(time1.hour)\n",
    "print(time1.minute)\n",
    "print(time1.second)\n",
    "print(time1.microsecond)"
   ]
  },
  {
   "cell_type": "code",
   "execution_count": 33,
   "id": "01cbc5b0",
   "metadata": {},
   "outputs": [
    {
     "name": "stdout",
     "output_type": "stream",
     "text": [
      "11:14:35.481405\n"
     ]
    }
   ],
   "source": [
    "# to get the current time\n",
    "current_time = datetime.datetime.now().time()\n",
    "print(current_time)"
   ]
  },
  {
   "cell_type": "code",
   "execution_count": 34,
   "id": "34ade49e",
   "metadata": {},
   "outputs": [
    {
     "data": {
      "text/plain": [
       "'11::14::35::AM'"
      ]
     },
     "execution_count": 34,
     "metadata": {},
     "output_type": "execute_result"
    }
   ],
   "source": [
    "current_time.strftime('%I::%M::%S::%p')"
   ]
  },
  {
   "cell_type": "code",
   "execution_count": 35,
   "id": "2e6c2899",
   "metadata": {},
   "outputs": [
    {
     "data": {
      "text/plain": [
       "datetime.datetime(2023, 11, 22, 11, 21, 37, 365379)"
      ]
     },
     "execution_count": 35,
     "metadata": {},
     "output_type": "execute_result"
    }
   ],
   "source": [
    "current_time = datetime.datetime.now()\n",
    "current_time "
   ]
  },
  {
   "cell_type": "code",
   "execution_count": 38,
   "id": "7d71664e",
   "metadata": {},
   "outputs": [
    {
     "name": "stdout",
     "output_type": "stream",
     "text": [
      "Provide your date[d/m/Y]:23/11/2023\n"
     ]
    },
    {
     "data": {
      "text/plain": [
       "2023"
      ]
     },
     "execution_count": 38,
     "metadata": {},
     "output_type": "execute_result"
    }
   ],
   "source": [
    "# strptime: convert string data to datetime format\n",
    "date2 = input('Provide your date[d/m/Y]:')\n",
    "condate = datetime.datetime.strptime(date2,'%d/%m/%Y').date()\n",
    "condate.year\n"
   ]
  },
  {
   "cell_type": "code",
   "execution_count": 39,
   "id": "cf0820c4",
   "metadata": {},
   "outputs": [
    {
     "name": "stdout",
     "output_type": "stream",
     "text": [
      "Provide your date[d/m/Y]:22/11/2023\n"
     ]
    },
    {
     "data": {
      "text/plain": [
       "11"
      ]
     },
     "execution_count": 39,
     "metadata": {},
     "output_type": "execute_result"
    }
   ],
   "source": [
    "date2 = input('Provide your date[d/m/Y]:')\n",
    "condate = datetime.datetime.strptime(date2,'%d/%m/%Y').date()\n",
    "condate.month\n"
   ]
  },
  {
   "cell_type": "code",
   "execution_count": 40,
   "id": "ecd48cf0",
   "metadata": {},
   "outputs": [
    {
     "data": {
      "text/plain": [
       "datetime.timedelta(days=546)"
      ]
     },
     "execution_count": 40,
     "metadata": {},
     "output_type": "execute_result"
    }
   ],
   "source": [
    "# Time delta: difference between two dates\n",
    "currentdate - date1"
   ]
  },
  {
   "cell_type": "code",
   "execution_count": 43,
   "id": "b108bba7",
   "metadata": {},
   "outputs": [
    {
     "data": {
      "text/plain": [
       "datetime.date(2024, 4, 20)"
      ]
     },
     "execution_count": 43,
     "metadata": {},
     "output_type": "execute_result"
    }
   ],
   "source": [
    "next_date = currentdate + datetime.timedelta(days = 150)\n",
    "next_date"
   ]
  },
  {
   "cell_type": "code",
   "execution_count": 45,
   "id": "96a91418",
   "metadata": {},
   "outputs": [
    {
     "data": {
      "text/plain": [
       "datetime.date(2024, 11, 6)"
      ]
     },
     "execution_count": 45,
     "metadata": {},
     "output_type": "execute_result"
    }
   ],
   "source": [
    "next_date = currentdate + datetime.timedelta(weeks = 50)\n",
    "next_date"
   ]
  },
  {
   "cell_type": "code",
   "execution_count": 44,
   "id": "264b26e2",
   "metadata": {},
   "outputs": [
    {
     "data": {
      "text/plain": [
       "datetime.date(2023, 6, 25)"
      ]
     },
     "execution_count": 44,
     "metadata": {},
     "output_type": "execute_result"
    }
   ],
   "source": [
    "next_date = currentdate - datetime.timedelta(days = 150)\n",
    "next_date"
   ]
  },
  {
   "cell_type": "code",
   "execution_count": 2,
   "id": "7931cad5",
   "metadata": {},
   "outputs": [
    {
     "name": "stdout",
     "output_type": "stream",
     "text": [
      "Enter your type of appointmentVehicle\n",
      "Enter the date of your appointment in [YYYY-MM-DD]:2024-01-17\n",
      "Time until your Vehicle appointment is 7 weeks and 6 days\n"
     ]
    }
   ],
   "source": [
    "#Ask a user for for their type of appointment , the date and write a program to calculate how many weeks and days left\n",
    "# until the user's appointment\n",
    "\n",
    "from datetime import datetime\n",
    "appointment_type = input('Enter your type of appointment:')\n",
    "appointment_date1 = input('Enter the date of your appointment in [YYYY-MM-DD]:')\n",
    "\n",
    "try:\n",
    "    appointment_date = datetime.strptime(appointment_date1,'%Y-%m-%d').date()\n",
    "except ValueError:\n",
    "    print(\"Invalid date format. Please use the format YYYY-MM-DD.\")\n",
    "    exit()\n",
    "\n",
    "\n",
    "current_date = datetime.now().date()\n",
    "time_until_next_appointment = appointment_date - current_date \n",
    "\n",
    "weeks = time_until_next_appointment .days// 7\n",
    "days = time_until_next_appointment.days % 7\n",
    "\n",
    "print(f'Time until your {appointment_type} appointment is {weeks} weeks and {days} days')"
   ]
  },
  {
   "cell_type": "code",
   "execution_count": null,
   "id": "f0ec249c",
   "metadata": {},
   "outputs": [],
   "source": []
  }
 ],
 "metadata": {
  "kernelspec": {
   "display_name": "Python 3 (ipykernel)",
   "language": "python",
   "name": "python3"
  },
  "language_info": {
   "codemirror_mode": {
    "name": "ipython",
    "version": 3
   },
   "file_extension": ".py",
   "mimetype": "text/x-python",
   "name": "python",
   "nbconvert_exporter": "python",
   "pygments_lexer": "ipython3",
   "version": "3.11.5"
  }
 },
 "nbformat": 4,
 "nbformat_minor": 5
}
