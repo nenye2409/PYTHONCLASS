{
 "cells": [
  {
   "cell_type": "code",
   "execution_count": 5,
   "id": "cc7b1f0e",
   "metadata": {},
   "outputs": [
    {
     "name": "stdout",
     "output_type": "stream",
     "text": [
      "Enter your type of appointment:Doctor's\n",
      "Enter the date of your appointment [YYYY-MM-DD]:2024-01-26\n",
      "The time until Doctor's appointment is 9 weeks and 1 days\n"
     ]
    }
   ],
   "source": [
    "#Ask a user for for their type of appointment , the date and write a program to calculate how many weeks and days left\n",
    "# until the user's appointment\n",
    "from datetime import datetime\n",
    "appointment_type = input('Enter your type of appointment:')\n",
    "appointment_date_str = input('Enter the date of your appointment [YYYY-MM-DD]:')\n",
    "\n",
    "try:\n",
    "    appointment_date = datetime.strptime(appointment_date_str, \"%Y-%m-%d\").date()\n",
    "except ValueError:\n",
    "    print(\"Invalid date format. Please use the format YYYY-MM-DD.\")\n",
    "    exit()\n",
    "\n",
    "\n",
    "current_date = datetime.now().date()\n",
    "time_until_next_appointment = appointment_date - current_date \n",
    "\n",
    "weeks = time_until_next_appointment.days // 7\n",
    "days = time_until_next_appointment.days % 7\n",
    "\n",
    "print(f'The time until {appointment_type} appointment is {weeks} weeks and {days} days')"
   ]
  },
  {
   "cell_type": "code",
   "execution_count": 6,
   "id": "e9988291",
   "metadata": {},
   "outputs": [
    {
     "name": "stdout",
     "output_type": "stream",
     "text": [
      "The addition of 10 and 5 is 15\n",
      "time_for_each_addition: 3.21seconds\n",
      "correct!\n",
      "\n",
      "The addition of 5 and 10 is 14\n",
      "time_for_each_addition: 2.99seconds\n",
      "Answer not correct! The correct answer is 15\n",
      "\n",
      "The addition of 6 and 2 is 8\n",
      "time_for_each_addition: 5.59seconds\n",
      "correct!\n",
      "\n",
      "The addition of 1 and 10 is 11\n",
      "time_for_each_addition: 2.87seconds\n",
      "correct!\n",
      "\n",
      "The addition of 6 and 8 is 14\n",
      "time_for_each_addition: 6.48seconds\n",
      "correct!\n",
      "\n",
      "The total time taken for the five additions is: 21.14seconds\n"
     ]
    }
   ],
   "source": [
    "# write a program to calculate how many seconds a user used in answering five different additions of two numbers\n",
    "# generated randomly\n",
    "import random\n",
    "import time\n",
    "\n",
    "time_taken = 0\n",
    "\n",
    "for a in range(5):\n",
    "    num1 = random.randint(1,10)\n",
    "    num2 = random.randint(1,10)\n",
    "    \n",
    "    start_time = time.time()\n",
    "    \n",
    "    \n",
    "    try:\n",
    "        user_answer = int(input(f'The addition of {num1} and {num2} is '))\n",
    "    except ValueError:\n",
    "        print('An error occured: integer values only')\n",
    "        \n",
    "    stop_time = time.time() \n",
    "    elapsed_time = stop_time - start_time\n",
    "    time_taken = time_taken + elapsed_time\n",
    "    print(f'time_for_each_addition: {elapsed_time:.2f}seconds')\n",
    "    \n",
    "    correct_answer = num1 + num2 \n",
    "    if user_answer == correct_answer:\n",
    "        print('correct!')\n",
    "    else:\n",
    "        print(f'Answer not correct! The correct answer is {correct_answer}')\n",
    "    print()\n",
    "print(f'The total time taken for the five additions is: {time_taken:.2f}seconds')\n",
    "    \n",
    "    \n",
    "\n"
   ]
  },
  {
   "cell_type": "code",
   "execution_count": null,
   "id": "b2fa03ed",
   "metadata": {},
   "outputs": [],
   "source": []
  },
  {
   "cell_type": "code",
   "execution_count": null,
   "id": "d0d1e779",
   "metadata": {},
   "outputs": [],
   "source": []
  }
 ],
 "metadata": {
  "kernelspec": {
   "display_name": "Python 3 (ipykernel)",
   "language": "python",
   "name": "python3"
  },
  "language_info": {
   "codemirror_mode": {
    "name": "ipython",
    "version": 3
   },
   "file_extension": ".py",
   "mimetype": "text/x-python",
   "name": "python",
   "nbconvert_exporter": "python",
   "pygments_lexer": "ipython3",
   "version": "3.11.5"
  }
 },
 "nbformat": 4,
 "nbformat_minor": 5
}
