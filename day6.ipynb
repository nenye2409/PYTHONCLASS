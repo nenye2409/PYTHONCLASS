{
 "cells": [
  {
   "cell_type": "markdown",
   "id": "abd6ad7f",
   "metadata": {},
   "source": [
    "# FUNCTIONS"
   ]
  },
  {
   "cell_type": "code",
   "execution_count": 1,
   "id": "555ca3ac",
   "metadata": {},
   "outputs": [
    {
     "name": "stdout",
     "output_type": "stream",
     "text": [
      "Welcome to python class\n"
     ]
    }
   ],
   "source": [
    "def greet(): # A function without a parameter\n",
    "    print('Welcome to python class')\n",
    "greet()"
   ]
  },
  {
   "cell_type": "code",
   "execution_count": 3,
   "id": "e5649a04",
   "metadata": {},
   "outputs": [
    {
     "name": "stdout",
     "output_type": "stream",
     "text": [
      "Welcome to python class Nenye\n"
     ]
    }
   ],
   "source": [
    "def greet2(name): # A function with a single parameter\n",
    "    print(f'Welcome to python class {name}')\n",
    "greet2('Nenye')"
   ]
  },
  {
   "cell_type": "code",
   "execution_count": 4,
   "id": "437d5ccd",
   "metadata": {},
   "outputs": [
    {
     "name": "stdout",
     "output_type": "stream",
     "text": [
      "Welcome to python class Charles\n"
     ]
    }
   ],
   "source": [
    "greet2('Charles')"
   ]
  },
  {
   "cell_type": "code",
   "execution_count": 6,
   "id": "0a11d73e",
   "metadata": {},
   "outputs": [
    {
     "name": "stdout",
     "output_type": "stream",
     "text": [
      "______DETAILS______\n",
      "NAME:John Damian\n",
      "AGE:20\n",
      "GENDER:Male\n",
      "HEIGHT:1.75\n",
      "    \n",
      "Sorry not selected\n"
     ]
    }
   ],
   "source": [
    "# A function with multiple parameters\n",
    "def Basketball_selection(name,age,gender,height):\n",
    "    print(f'''______DETAILS______\n",
    "NAME:{name}\n",
    "AGE:{age}\n",
    "GENDER:{gender}\n",
    "HEIGHT:{height}\n",
    "    ''')\n",
    "    if height > 1.89 and age >= 17:\n",
    "        print('Congratultions you have been selected for the upcoming game')\n",
    "    else:\n",
    "        print('Sorry not selected')\n",
    "Basketball_selection('John Damian', 20, 'Male', 1.75)"
   ]
  },
  {
   "cell_type": "code",
   "execution_count": 8,
   "id": "e2eb306f",
   "metadata": {},
   "outputs": [
    {
     "name": "stdout",
     "output_type": "stream",
     "text": [
      "______DETAILS______\n",
      "NAME:Jessica Damian\n",
      "AGE:20\n",
      "GENDER:Female\n",
      "HEIGHT:1.91\n",
      "    \n",
      "Congratultions you have been selected for the upcoming game\n"
     ]
    }
   ],
   "source": [
    "Basketball_selection('Jessica Damian', 20, 'Female', 1.91)"
   ]
  },
  {
   "cell_type": "code",
   "execution_count": 12,
   "id": "55f2987b",
   "metadata": {},
   "outputs": [
    {
     "name": "stdout",
     "output_type": "stream",
     "text": [
      "CHOOSE TRANSACTION OPTION [deposit,transfer,airtime,data,balance,logout]deposit\n",
      "Enter Deposit Amount800000\n",
      "Transaction Successful\n",
      "CHOOSE TRANSACTION OPTION [deposit,transfer,airtime,data,balance,logout]balance\n",
      "Your available balance is 800000.0\n",
      "CHOOSE TRANSACTION OPTION [deposit,transfer,airtime,data,balance,logout]transfer\n",
      "Enter Transfer Amount15000\n",
      "Transaction Successful\n",
      "CHOOSE TRANSACTION OPTION [deposit,transfer,airtime,data,balance,logout]balance\n",
      "Your available balance is 785000.0\n",
      "CHOOSE TRANSACTION OPTION [deposit,transfer,airtime,data,balance,logout]data\n",
      "Enter Data Amount100000\n",
      "Transaction Successful\n",
      "CHOOSE TRANSACTION OPTION [deposit,transfer,airtime,data,balance,logout]transfer\n",
      "Enter Transfer Amount780000\n",
      "Insufficient funds\n",
      "CHOOSE TRANSACTION OPTION [deposit,transfer,airtime,data,balance,logout]transfer\n",
      "Enter Transfer Amount500000\n",
      "Transaction Successful\n",
      "CHOOSE TRANSACTION OPTION [deposit,transfer,airtime,data,balance,logout]balance\n",
      "Your available balance is 185000.0\n",
      "CHOOSE TRANSACTION OPTION [deposit,transfer,airtime,data,balance,logout]logout\n",
      "Logging out, have a nice day\n"
     ]
    }
   ],
   "source": [
    "balance = 0\n",
    "def sparkjet():\n",
    "    global balance\n",
    "    def deposit():\n",
    "        global balance\n",
    "        amount = float(input('Enter Deposit Amount'))\n",
    "        balance = balance + amount\n",
    "        print('Transaction Successful')\n",
    "    def transfer():\n",
    "        global balance\n",
    "        amount = float(input('Enter Transfer Amount'))\n",
    "        if amount > balance or amount == 0:\n",
    "            print('Insufficient funds')\n",
    "        else:\n",
    "            balance = balance - amount\n",
    "            print('Transaction Successful')\n",
    "    def airtime():\n",
    "        global balance\n",
    "        amount = float(input('Enter Airtime Amount'))\n",
    "        if amount > balance or amount == 0:\n",
    "            print('Insufficient funds')\n",
    "        else:\n",
    "            balance = balance - amount\n",
    "            print('Transaction Successful')\n",
    "    def data():\n",
    "        global balance\n",
    "        amount = float(input('Enter Data Amount'))\n",
    "        if amount > balance or amount == 0:\n",
    "            print('Insufficient funds')\n",
    "        else:\n",
    "            balance = balance - amount\n",
    "            print('Transaction Successful')\n",
    "    def checkbalance():\n",
    "        global balance\n",
    "        print(f'Your available balance is {balance}')\n",
    "    operation = True\n",
    "    counter = 0\n",
    "    while operation:\n",
    "        option = input('CHOOSE TRANSACTION OPTION [deposit,transfer,airtime,data,balance,logout]')\n",
    "        if option == 'deposit':\n",
    "            deposit()\n",
    "        elif option == 'transfer':\n",
    "            transfer()\n",
    "        elif option == 'data':\n",
    "            data()\n",
    "        elif option == 'airtime':\n",
    "            airtime()\n",
    "        elif option == 'balance':\n",
    "            checkbalance()\n",
    "        elif option =='logout':\n",
    "            print('Logging out, have a nice day')\n",
    "            break\n",
    "            operation = False\n",
    "        counter = counter + 1\n",
    "sparkjet()           \n",
    "            \n",
    "            \n",
    "       \n",
    "    "
   ]
  },
  {
   "cell_type": "code",
   "execution_count": null,
   "id": "26248400",
   "metadata": {},
   "outputs": [],
   "source": []
  }
 ],
 "metadata": {
  "kernelspec": {
   "display_name": "Python 3 (ipykernel)",
   "language": "python",
   "name": "python3"
  },
  "language_info": {
   "codemirror_mode": {
    "name": "ipython",
    "version": 3
   },
   "file_extension": ".py",
   "mimetype": "text/x-python",
   "name": "python",
   "nbconvert_exporter": "python",
   "pygments_lexer": "ipython3",
   "version": "3.11.5"
  }
 },
 "nbformat": 4,
 "nbformat_minor": 5
}
