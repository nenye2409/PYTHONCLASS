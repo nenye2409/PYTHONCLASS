{
 "cells": [
  {
   "cell_type": "code",
   "execution_count": 3,
   "id": "49e4d68a",
   "metadata": {},
   "outputs": [
    {
     "name": "stdout",
     "output_type": "stream",
     "text": [
      "pppp\n",
      "yyyy\n",
      "tttt\n",
      "hhhh\n",
      "oooo\n",
      "nnnn\n"
     ]
    }
   ],
   "source": [
    "#loop : for loop: to see each character\n",
    "word = 'python'\n",
    "for char in word:\n",
    "    print(char *4)\n",
    "    "
   ]
  },
  {
   "cell_type": "code",
   "execution_count": 5,
   "id": "7dc06718",
   "metadata": {},
   "outputs": [
    {
     "name": "stdout",
     "output_type": "stream",
     "text": [
      "pppp yyyy tttt hhhh oooo nnnn "
     ]
    }
   ],
   "source": [
    "# to display it in a straight line\n",
    "word = 'python'\n",
    "for char in word:\n",
    "    print(char *4, end =' ')"
   ]
  },
  {
   "cell_type": "markdown",
   "id": "7da01a94",
   "metadata": {},
   "source": [
    "# write a program to check if an item is in stock and calculate the total cost of items in the shpping cart\n"
   ]
  },
  {
   "cell_type": "code",
   "execution_count": 8,
   "id": "13b39943",
   "metadata": {},
   "outputs": [
    {
     "name": "stdout",
     "output_type": "stream",
     "text": [
      "The total cost of items in the cart is N24300.0\n"
     ]
    }
   ],
   "source": [
    "products = {\n",
    "    'item1':{'Name':'Big Burger', 'Price':3000.00, 'Stock':15},\n",
    "    'item2':{'Name':'Small Burger','Price':1500.00, 'Stock':25},\n",
    "    'item3':{'Name':'Chicken Pie', 'Price':600.00, 'Stock':50}\n",
    "}\n",
    "cart = []\n",
    "totalcost = 0\n",
    "cart.append(('item1',5))\n",
    "cart.append(('item2',3))\n",
    "cart.append(('item3',8))\n",
    "for item in cart:\n",
    "    id, quantity = item\n",
    "    if id in products and products[id]['Stock'] >=quantity:\n",
    "        totalcost += products[id]['Price'] * quantity\n",
    "    else:\n",
    "        print('Out of Stock')\n",
    "if totalcost > 0:\n",
    "    print(f'The total cost of items in the cart is N{totalcost}')\n",
    "else:\n",
    "    print('No item in the cart')"
   ]
  },
  {
   "cell_type": "code",
   "execution_count": 9,
   "id": "ff00846e",
   "metadata": {},
   "outputs": [],
   "source": [
    "# WHILE LOOP"
   ]
  },
  {
   "cell_type": "code",
   "execution_count": 10,
   "id": "1332fa37",
   "metadata": {},
   "outputs": [
    {
     "name": "stdout",
     "output_type": "stream",
     "text": [
      "Enter your number:16\n",
      "The sqrt of 16 is 4.0\n",
      "Enter your number:81\n",
      "The sqrt of 81 is 9.0\n",
      "Enter your number:90\n",
      "The sqrt of 90 is 9.486832980505138\n",
      "Enter your number:122\n",
      "The sqrt of 122 is 11.045361017187261\n",
      "Enter your number:600\n",
      "The sqrt of 600 is 24.49489742783178\n",
      "Enter your number:0\n"
     ]
    }
   ],
   "source": [
    "# to give us a squareroot of user as far as is not eqaul to zero\n",
    "num = int(input('Enter your number:'))\n",
    "import math\n",
    "counter = 0 # it takes acc of d no of time a program will execute, b4 it gets to 0\n",
    "while num != 0:\n",
    "    print(f'The sqrt of {num} is {math.sqrt(num)}')\n",
    "    counter+=1\n",
    "    num = int(input('Enter your number:'))"
   ]
  },
  {
   "cell_type": "markdown",
   "id": "531dad35",
   "metadata": {},
   "source": [
    "# WRITE A SIMPLE AUTHENTICATION SYSTEM THAT CHECKS A USERS CREDENTIALS TO ALLOW MAX ATTEMPT OF 3 TIMES LOGIN"
   ]
  },
  {
   "cell_type": "code",
   "execution_count": 13,
   "id": "e12337f1",
   "metadata": {},
   "outputs": [
    {
     "name": "stdout",
     "output_type": "stream",
     "text": [
      "Enter your username:quinny\n",
      "Enter your password:59897\n",
      "login failed\n",
      "Enter your username:nenye\n",
      "Enter your password:pius778\n",
      "login failed\n",
      "Enter your username:Nenyenwa\n",
      "Enter your password:quin210\n",
      "Login Successful, Nenyenwa!\n"
     ]
    }
   ],
   "source": [
    "correct_username = 'Nenyenwa'\n",
    "correct_password = 'quin210'\n",
    "max_attempt = 3\n",
    "login_attempt = 0\n",
    "while login_attempt < max_attempt:\n",
    "    username = input('Enter your username:')\n",
    "    password = input('Enter your password:')\n",
    "    if username == correct_username and password == correct_password:\n",
    "        print('Login Successful, ' + username + '!')\n",
    "        break\n",
    "    else:\n",
    "        print('login failed')\n",
    "        login_attempt +=1\n",
    "if login_attempt == max_attempt:\n",
    "    print('Maximum login attempt reached. Account locked.')\n"
   ]
  },
  {
   "cell_type": "code",
   "execution_count": 1,
   "id": "087b4eb2",
   "metadata": {},
   "outputs": [
    {
     "name": "stdout",
     "output_type": "stream",
     "text": [
      "jenny\n",
      "chinny\n",
      "sommy\n"
     ]
    }
   ],
   "source": [
    "names = ['jenny','chinny', 'sommy']\n",
    "for name in names:\n",
    "    print(name)"
   ]
  },
  {
   "cell_type": "code",
   "execution_count": 1,
   "id": "770c535e",
   "metadata": {},
   "outputs": [
    {
     "name": "stdout",
     "output_type": "stream",
     "text": [
      "jenny\n",
      "chinny\n",
      "sommy\n",
      "Hy, I hate you\n"
     ]
    }
   ],
   "source": [
    "names = ['jenny','chinny', 'sommy']\n",
    "for name in names:\n",
    "    print(name)\n",
    "    if name == 'sommy':\n",
    "        print('Hy, I hate you')\n",
    "        "
   ]
  },
  {
   "cell_type": "code",
   "execution_count": 2,
   "id": "72428fba",
   "metadata": {},
   "outputs": [
    {
     "name": "stdout",
     "output_type": "stream",
     "text": [
      "['__doc__', '__loader__', '__name__', '__package__', '__spec__', 'acos', 'acosh', 'asin', 'asinh', 'atan', 'atan2', 'atanh', 'cbrt', 'ceil', 'comb', 'copysign', 'cos', 'cosh', 'degrees', 'dist', 'e', 'erf', 'erfc', 'exp', 'exp2', 'expm1', 'fabs', 'factorial', 'floor', 'fmod', 'frexp', 'fsum', 'gamma', 'gcd', 'hypot', 'inf', 'isclose', 'isfinite', 'isinf', 'isnan', 'isqrt', 'lcm', 'ldexp', 'lgamma', 'log', 'log10', 'log1p', 'log2', 'modf', 'nan', 'nextafter', 'perm', 'pi', 'pow', 'prod', 'radians', 'remainder', 'sin', 'sinh', 'sqrt', 'tan', 'tanh', 'tau', 'trunc', 'ulp']\n"
     ]
    }
   ],
   "source": [
    "import math\n",
    "print(dir(math))"
   ]
  },
  {
   "cell_type": "code",
   "execution_count": 3,
   "id": "972f50e7",
   "metadata": {},
   "outputs": [
    {
     "name": "stdout",
     "output_type": "stream",
     "text": [
      "Enter the number of cycles: 4\n",
      "Green light. Go!\n",
      "Yellow light. Prepare to stop.\n",
      "Red light. Stop!\n",
      "Green light. Go!\n",
      "Yellow light. Prepare to stop.\n",
      "Red light. Stop!\n",
      "Green light. Go!\n",
      "Yellow light. Prepare to stop.\n",
      "Red light. Stop!\n",
      "Green light. Go!\n",
      "Yellow light. Prepare to stop.\n",
      "Red light. Stop!\n"
     ]
    }
   ],
   "source": [
    "import time\n",
    "cycles = int(input(\"Enter the number of cycles: \"))\n",
    "def traffic_light_controller(cycles):\n",
    "    for _ in range(cycles):\n",
    "        print(\"Green light. Go!\")\n",
    "        time.sleep(5)\n",
    "        print(\"Yellow light. Prepare to stop.\")\n",
    "        time.sleep(2)\n",
    "        print(\"Red light. Stop!\")\n",
    "        time.sleep(5)\n",
    "if __name__ == \"__main__\":\n",
    "    traffic_light_controller(cycles)"
   ]
  },
  {
   "cell_type": "code",
   "execution_count": null,
   "id": "37dee6ee",
   "metadata": {},
   "outputs": [],
   "source": []
  }
 ],
 "metadata": {
  "kernelspec": {
   "display_name": "Python 3 (ipykernel)",
   "language": "python",
   "name": "python3"
  },
  "language_info": {
   "codemirror_mode": {
    "name": "ipython",
    "version": 3
   },
   "file_extension": ".py",
   "mimetype": "text/x-python",
   "name": "python",
   "nbconvert_exporter": "python",
   "pygments_lexer": "ipython3",
   "version": "3.11.5"
  }
 },
 "nbformat": 4,
 "nbformat_minor": 5
}
