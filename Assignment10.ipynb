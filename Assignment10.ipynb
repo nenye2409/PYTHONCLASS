{
 "cells": [
  {
   "cell_type": "markdown",
   "id": "e2488b22",
   "metadata": {},
   "source": [
    "# write on why python is tagged as the black sheep of programming language\n",
    "\n",
    "# - Python compared to other programming language is slower in codes execution\n",
    "\n",
    "# - Python is a Whitespace sensitive programming language\n",
    "\n",
    "# - Inconsistent Syntax :#Python is known for its basic and easy-to-read language structure, but it can too be criticized for its irregularity. \n",
    "\n",
    "# - The transition from Python 2 to Python 3 caused some division in the community, as not all libraries and projects migrated immediately. \n",
    "\n",
    "# - "
   ]
  },
  {
   "cell_type": "code",
   "execution_count": null,
   "id": "eaccf00e",
   "metadata": {},
   "outputs": [],
   "source": []
  }
 ],
 "metadata": {
  "kernelspec": {
   "display_name": "Python 3 (ipykernel)",
   "language": "python",
   "name": "python3"
  },
  "language_info": {
   "codemirror_mode": {
    "name": "ipython",
    "version": 3
   },
   "file_extension": ".py",
   "mimetype": "text/x-python",
   "name": "python",
   "nbconvert_exporter": "python",
   "pygments_lexer": "ipython3",
   "version": "3.11.5"
  }
 },
 "nbformat": 4,
 "nbformat_minor": 5
}
