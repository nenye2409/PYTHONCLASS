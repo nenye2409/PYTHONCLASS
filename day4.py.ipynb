{
 "cells": [
  {
   "cell_type": "markdown",
   "id": "760450f1",
   "metadata": {},
   "source": [
    "# Dictionaries\n"
   ]
  },
  {
   "cell_type": "code",
   "execution_count": 1,
   "id": "e539cdc3",
   "metadata": {},
   "outputs": [
    {
     "name": "stdout",
     "output_type": "stream",
     "text": [
      "{'Name': 'Nenye', 'Age': 20}\n"
     ]
    }
   ],
   "source": [
    "records = {'Name': 'Nenye', 'Age': 20}\n",
    "print(records)"
   ]
  },
  {
   "cell_type": "code",
   "execution_count": 2,
   "id": "e862ad77",
   "metadata": {},
   "outputs": [
    {
     "name": "stdout",
     "output_type": "stream",
     "text": [
      "Nenye\n"
     ]
    }
   ],
   "source": [
    "print(records['Name'])"
   ]
  },
  {
   "cell_type": "code",
   "execution_count": 4,
   "id": "d232efb0",
   "metadata": {},
   "outputs": [
    {
     "name": "stdout",
     "output_type": "stream",
     "text": [
      "dict_keys(['Name', 'Age'])\n"
     ]
    }
   ],
   "source": [
    "print(records.keys())"
   ]
  },
  {
   "cell_type": "code",
   "execution_count": 5,
   "id": "1679f28e",
   "metadata": {},
   "outputs": [
    {
     "name": "stdout",
     "output_type": "stream",
     "text": [
      "dict_values(['Nenye', 20])\n"
     ]
    }
   ],
   "source": [
    "print(records.values())"
   ]
  },
  {
   "cell_type": "code",
   "execution_count": 13,
   "id": "2fccb92b",
   "metadata": {},
   "outputs": [
    {
     "name": "stdout",
     "output_type": "stream",
     "text": [
      "{'Name': 'Nenye', 'Age': 20, 'Gender': 'Female'}\n"
     ]
    }
   ],
   "source": [
    "records = {'Name': 'Nenye', 'Age': 20}\n",
    "records['Gender']= 'Female'\n",
    "print(records)"
   ]
  },
  {
   "cell_type": "code",
   "execution_count": 14,
   "id": "82041a74",
   "metadata": {},
   "outputs": [
    {
     "name": "stdout",
     "output_type": "stream",
     "text": [
      "{'Name': 'Nenye', 'Age': 20, 'Gender': 'Female', 'Height': 5.3}\n"
     ]
    }
   ],
   "source": [
    "records.update({'Height': 5.3})\n",
    "print(records)"
   ]
  },
  {
   "cell_type": "code",
   "execution_count": 15,
   "id": "f1d0f0aa",
   "metadata": {},
   "outputs": [
    {
     "name": "stdout",
     "output_type": "stream",
     "text": [
      "{'Name': 'Nenye', 'Age': 22, 'Gender': 'Female', 'Height': 5.3}\n"
     ]
    }
   ],
   "source": [
    "# update can also be used to update an existing value\n",
    "records.update({'Age':22})\n",
    "print(records)"
   ]
  },
  {
   "cell_type": "code",
   "execution_count": 16,
   "id": "62c81cf3",
   "metadata": {},
   "outputs": [
    {
     "name": "stdout",
     "output_type": "stream",
     "text": [
      "{'Name': 'Nenye', 'Age': 22, 'Gender': 'Female'}\n"
     ]
    }
   ],
   "source": [
    "# how to delete using popitem, it goes to the last and delete\n",
    "records.popitem()\n",
    "print(records)"
   ]
  },
  {
   "cell_type": "code",
   "execution_count": 18,
   "id": "9cf71ddf",
   "metadata": {},
   "outputs": [
    {
     "name": "stdout",
     "output_type": "stream",
     "text": [
      "{'Name': 'Nenye', 'Gender': 'Female'}\n"
     ]
    }
   ],
   "source": [
    "# how to delete using pop by specifying what you want to delete\n",
    "records.pop('Age')\n",
    "print(records)"
   ]
  },
  {
   "cell_type": "code",
   "execution_count": 19,
   "id": "e24cf015",
   "metadata": {},
   "outputs": [
    {
     "name": "stdout",
     "output_type": "stream",
     "text": [
      "['__doc__', '__loader__', '__name__', '__package__', '__spec__', 'acos', 'acosh', 'asin', 'asinh', 'atan', 'atan2', 'atanh', 'cbrt', 'ceil', 'comb', 'copysign', 'cos', 'cosh', 'degrees', 'dist', 'e', 'erf', 'erfc', 'exp', 'exp2', 'expm1', 'fabs', 'factorial', 'floor', 'fmod', 'frexp', 'fsum', 'gamma', 'gcd', 'hypot', 'inf', 'isclose', 'isfinite', 'isinf', 'isnan', 'isqrt', 'lcm', 'ldexp', 'lgamma', 'log', 'log10', 'log1p', 'log2', 'modf', 'nan', 'nextafter', 'perm', 'pi', 'pow', 'prod', 'radians', 'remainder', 'sin', 'sinh', 'sqrt', 'tan', 'tanh', 'tau', 'trunc', 'ulp']\n"
     ]
    }
   ],
   "source": [
    "# Arithmetic module: math module\n",
    "import math\n",
    "print(dir(math))"
   ]
  },
  {
   "cell_type": "code",
   "execution_count": 20,
   "id": "5f11481a",
   "metadata": {},
   "outputs": [
    {
     "name": "stdout",
     "output_type": "stream",
     "text": [
      "17\n",
      "16\n",
      "10395180.252586327\n"
     ]
    }
   ],
   "source": [
    "num = 16.85\n",
    "print(math.ceil(num))\n",
    "print(math.floor(num))\n",
    "print(math.sinh(num))\n"
   ]
  },
  {
   "cell_type": "code",
   "execution_count": 22,
   "id": "11a62985",
   "metadata": {},
   "outputs": [
    {
     "name": "stdout",
     "output_type": "stream",
     "text": [
      "['Counter', 'Decimal', 'Fraction', 'LinearRegression', 'NormalDist', 'StatisticsError', '_SQRT2', '__all__', '__annotations__', '__builtins__', '__cached__', '__doc__', '__file__', '__loader__', '__name__', '__package__', '__spec__', '_coerce', '_convert', '_decimal_sqrt_of_frac', '_exact_ratio', '_fail_neg', '_float_sqrt_of_frac', '_integer_sqrt_of_frac_rto', '_isfinite', '_mean_stdev', '_normal_dist_inv_cdf', '_sqrt_bit_width', '_ss', '_sum', 'bisect_left', 'bisect_right', 'correlation', 'covariance', 'defaultdict', 'erf', 'exp', 'fabs', 'fmean', 'fsum', 'geometric_mean', 'groupby', 'harmonic_mean', 'hypot', 'linear_regression', 'log', 'math', 'mean', 'median', 'median_grouped', 'median_high', 'median_low', 'mode', 'mul', 'multimode', 'namedtuple', 'numbers', 'pstdev', 'pvariance', 'quantiles', 'random', 'reduce', 'repeat', 'sqrt', 'stdev', 'sys', 'tau', 'variance']\n"
     ]
    }
   ],
   "source": [
    "import statistics as stat\n",
    "print(dir(stat))"
   ]
  },
  {
   "cell_type": "code",
   "execution_count": 23,
   "id": "ae161de9",
   "metadata": {},
   "outputs": [
    {
     "name": "stdout",
     "output_type": "stream",
     "text": [
      "80.375\n",
      "81.5\n",
      "98\n",
      "295.125\n"
     ]
    }
   ],
   "source": [
    "score = [78,98,58,75,96,98,55,85]\n",
    "print(stat.mean(score))\n",
    "print(stat.median(score))\n",
    "print(stat.mode(score))\n",
    "print(stat.variance(score))"
   ]
  },
  {
   "cell_type": "code",
   "execution_count": 25,
   "id": "a31486c1",
   "metadata": {},
   "outputs": [
    {
     "name": "stdout",
     "output_type": "stream",
     "text": [
      "['BPF', 'LOG4', 'NV_MAGICCONST', 'RECIP_BPF', 'Random', 'SG_MAGICCONST', 'SystemRandom', 'TWOPI', '_ONE', '_Sequence', '_Set', '__all__', '__builtins__', '__cached__', '__doc__', '__file__', '__loader__', '__name__', '__package__', '__spec__', '_accumulate', '_acos', '_bisect', '_ceil', '_cos', '_e', '_exp', '_floor', '_index', '_inst', '_isfinite', '_log', '_os', '_pi', '_random', '_repeat', '_sha512', '_sin', '_sqrt', '_test', '_test_generator', '_urandom', '_warn', 'betavariate', 'choice', 'choices', 'expovariate', 'gammavariate', 'gauss', 'getrandbits', 'getstate', 'lognormvariate', 'normalvariate', 'paretovariate', 'randbytes', 'randint', 'random', 'randrange', 'sample', 'seed', 'setstate', 'shuffle', 'triangular', 'uniform', 'vonmisesvariate', 'weibullvariate']\n"
     ]
    }
   ],
   "source": [
    "import random as rn\n",
    "print(dir(rn))"
   ]
  },
  {
   "cell_type": "code",
   "execution_count": 26,
   "id": "762a7a68",
   "metadata": {},
   "outputs": [
    {
     "name": "stdout",
     "output_type": "stream",
     "text": [
      "[78, 98, 58, 75, 96, 98, 55, 85]\n"
     ]
    }
   ],
   "source": [
    "rn.choice(score)\n",
    "print(score)"
   ]
  },
  {
   "cell_type": "code",
   "execution_count": 27,
   "id": "659cdcba",
   "metadata": {},
   "outputs": [
    {
     "data": {
      "text/plain": [
       "98"
      ]
     },
     "execution_count": 27,
     "metadata": {},
     "output_type": "execute_result"
    }
   ],
   "source": [
    "rn.choice(score)"
   ]
  },
  {
   "cell_type": "code",
   "execution_count": 29,
   "id": "7725ff56",
   "metadata": {},
   "outputs": [
    {
     "data": {
      "text/plain": [
       "64"
      ]
     },
     "execution_count": 29,
     "metadata": {},
     "output_type": "execute_result"
    }
   ],
   "source": [
    "rn.randint(30,80)"
   ]
  },
  {
   "cell_type": "markdown",
   "id": "c02700cc",
   "metadata": {},
   "source": [
    "# Conditional statement"
   ]
  },
  {
   "cell_type": "code",
   "execution_count": 2,
   "id": "ebcaccbb",
   "metadata": {},
   "outputs": [
    {
     "name": "stdout",
     "output_type": "stream",
     "text": [
      "Enter Customer bill:5500.78\n",
      "Congratulations you have 5% discount\n"
     ]
    }
   ],
   "source": [
    "# how can a customer use a conditional statement to determine if a customer bill exceeds a\n",
    "# certain amount to give a discount or not\n",
    "customer_bill = float(input('Enter Customer bill:'))\n",
    "default_price = 5000\n",
    "if customer_bill > default_price:\n",
    "    print(f'Congratulations you have 5% discount')"
   ]
  },
  {
   "cell_type": "code",
   "execution_count": 3,
   "id": "6be6a7db",
   "metadata": {},
   "outputs": [
    {
     "name": "stdout",
     "output_type": "stream",
     "text": [
      "Enter Customer bill:2200.67\n",
      "Sorry buy more to have a discount or try again later\n"
     ]
    }
   ],
   "source": [
    "customer_bill = float(input('Enter Customer bill:'))\n",
    "default_price = 5000\n",
    "if customer_bill > default_price:\n",
    "    print(f'Congratulations you have 5% discount')\n",
    "else:\n",
    "    print(f'Sorry buy more to have a discount or try again later')"
   ]
  },
  {
   "cell_type": "code",
   "execution_count": 15,
   "id": "cc6d06d6",
   "metadata": {},
   "outputs": [
    {
     "name": "stdout",
     "output_type": "stream",
     "text": [
      "WELCOME TO MJ PLAZA\n",
      "_______FLOORS_______\n",
      "1. [SPA AND EARLYCODE]\n",
      "2. [SALON AND RESTAURANT]\n",
      "3. [LOUNGE AND GAME SHOP]\n",
      "4. GROUND FLOOR\n",
      "\n",
      "Enter the button number to your desired floor:3\n",
      "Enter 1 for LOUNGE and 2 for GAME SHOP:2\n",
      "GAME SHOP is on the right\n"
     ]
    }
   ],
   "source": [
    "# multiple conditions\n",
    "print('WELCOME TO MJ PLAZA')\n",
    "print('''_______FLOORS_______\n",
    "1. [SPA AND EARLYCODE]\n",
    "2. [SALON AND RESTAURANT]\n",
    "3. [LOUNGE AND GAME SHOP]\n",
    "4. GROUND FLOOR\n",
    "''')\n",
    "users_option = input('Enter the button number to your desired floor:')\n",
    "if users_option == '1':\n",
    "    option =input('Enter 1 for SPA and 2 for EARLYCODE:')\n",
    "    if option == '1':\n",
    "        print('SPA is on the left')\n",
    "    elif option =='2':\n",
    "        print('EARLYCODE is on the right')\n",
    "elif users_option =='2':\n",
    "    option =input('Enter 1 for SALON and 2 for RESTAURANT:')\n",
    "    if option =='1':\n",
    "        print('SALON is on the left')\n",
    "    elif option =='2':\n",
    "        print('RESTAURANT is on the right')\n",
    "elif users_option =='3':\n",
    "    option =input('Enter 1 for LOUNGE and 2 for GAME SHOP:')\n",
    "    if option == '1':\n",
    "        print('LOUNGE is on the left')\n",
    "    elif option =='2':\n",
    "        print('GAME SHOP is on the right')     \n",
    "elif users_option == '4':\n",
    "    print('POM POM GROUND FLOOR')"
   ]
  },
  {
   "cell_type": "code",
   "execution_count": null,
   "id": "3c307118",
   "metadata": {},
   "outputs": [],
   "source": [
    "\n"
   ]
  },
  {
   "cell_type": "code",
   "execution_count": null,
   "id": "ff90d564",
   "metadata": {},
   "outputs": [],
   "source": []
  }
 ],
 "metadata": {
  "kernelspec": {
   "display_name": "Python 3 (ipykernel)",
   "language": "python",
   "name": "python3"
  },
  "language_info": {
   "codemirror_mode": {
    "name": "ipython",
    "version": 3
   },
   "file_extension": ".py",
   "mimetype": "text/x-python",
   "name": "python",
   "nbconvert_exporter": "python",
   "pygments_lexer": "ipython3",
   "version": "3.11.5"
  }
 },
 "nbformat": 4,
 "nbformat_minor": 5
}
