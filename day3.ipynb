{
 "cells": [
  {
   "cell_type": "markdown",
   "id": "f515bd65",
   "metadata": {},
   "source": [
    "# Comparison operators:can only compare two values"
   ]
  },
  {
   "cell_type": "code",
   "execution_count": 2,
   "id": "68af6093",
   "metadata": {},
   "outputs": [
    {
     "name": "stdout",
     "output_type": "stream",
     "text": [
      "Enter first number:25\n",
      "Enter second number:30\n",
      "False\n",
      "True\n",
      "False\n",
      "True\n",
      "False\n",
      "True\n"
     ]
    }
   ],
   "source": [
    "num1 = int(input('Enter first number:'))\n",
    "num2 = int(input('Enter second number:'))\n",
    "print(num1 > num2)\n",
    "print(num1 < num2)\n",
    "print(num1 >= num2)\n",
    "print(num1 <= num2)\n",
    "print(num1 == num2)\n",
    "print(num1 != num2)"
   ]
  },
  {
   "cell_type": "markdown",
   "id": "e5c111db",
   "metadata": {},
   "source": [
    "# Logical operators: can compare multiple values"
   ]
  },
  {
   "cell_type": "code",
   "execution_count": 3,
   "id": "1b0eddb9",
   "metadata": {},
   "outputs": [
    {
     "name": "stdout",
     "output_type": "stream",
     "text": [
      "False\n",
      "True\n",
      "False\n"
     ]
    }
   ],
   "source": [
    "print(num1 == num2 and num1 <= num2)\n",
    "print(num1 == num2 or num1 <= num2)\n",
    "print(not num1)"
   ]
  },
  {
   "cell_type": "markdown",
   "id": "ed218c90",
   "metadata": {},
   "source": [
    "# Identity operators"
   ]
  },
  {
   "cell_type": "code",
   "execution_count": 4,
   "id": "c35048e8",
   "metadata": {},
   "outputs": [
    {
     "name": "stdout",
     "output_type": "stream",
     "text": [
      "False\n",
      "True\n"
     ]
    }
   ],
   "source": [
    "print(num1 is num2)\n",
    "print(num1 is not num2)"
   ]
  },
  {
   "cell_type": "markdown",
   "id": "6d5af212",
   "metadata": {},
   "source": [
    "# Iterable objects :: Tuple"
   ]
  },
  {
   "cell_type": "code",
   "execution_count": 5,
   "id": "7918effd",
   "metadata": {},
   "outputs": [],
   "source": [
    "numbers = (14,12,20,25,28,14,10,78,95,14,65,77)\n"
   ]
  },
  {
   "cell_type": "code",
   "execution_count": 6,
   "id": "f878f43e",
   "metadata": {},
   "outputs": [
    {
     "name": "stdout",
     "output_type": "stream",
     "text": [
      "12\n"
     ]
    }
   ],
   "source": [
    "# to find the length of a value\n",
    "print(len(numbers))"
   ]
  },
  {
   "cell_type": "code",
   "execution_count": 7,
   "id": "2dbf596e",
   "metadata": {},
   "outputs": [
    {
     "name": "stdout",
     "output_type": "stream",
     "text": [
      "<class 'tuple'>\n"
     ]
    }
   ],
   "source": [
    "# to check the type of data\n",
    "print(type(numbers))"
   ]
  },
  {
   "cell_type": "code",
   "execution_count": 8,
   "id": "3c084b59",
   "metadata": {},
   "outputs": [
    {
     "name": "stdout",
     "output_type": "stream",
     "text": [
      "14\n"
     ]
    }
   ],
   "source": [
    "print(numbers[5]) # forward selection of a value counting from o"
   ]
  },
  {
   "cell_type": "code",
   "execution_count": 9,
   "id": "b68854eb",
   "metadata": {},
   "outputs": [
    {
     "name": "stdout",
     "output_type": "stream",
     "text": [
      "14\n"
     ]
    }
   ],
   "source": [
    "print(numbers[-7]) # backward selection of a value counting from -1"
   ]
  },
  {
   "cell_type": "code",
   "execution_count": 10,
   "id": "5f0f4e34",
   "metadata": {},
   "outputs": [
    {
     "name": "stdout",
     "output_type": "stream",
     "text": [
      "False\n",
      "True\n"
     ]
    }
   ],
   "source": [
    "# membership operators: in and not in\n",
    "print(100 in numbers)\n",
    "print(100 not in numbers)"
   ]
  },
  {
   "cell_type": "code",
   "execution_count": 11,
   "id": "e1f671b0",
   "metadata": {},
   "outputs": [
    {
     "name": "stdout",
     "output_type": "stream",
     "text": [
      "3\n"
     ]
    }
   ],
   "source": [
    "# count operators\n",
    "print(numbers.count(14))"
   ]
  },
  {
   "cell_type": "code",
   "execution_count": 12,
   "id": "27183167",
   "metadata": {},
   "outputs": [
    {
     "name": "stdout",
     "output_type": "stream",
     "text": [
      "4\n"
     ]
    }
   ],
   "source": [
    "# inex operators\n",
    "print(numbers.index(28))"
   ]
  },
  {
   "cell_type": "markdown",
   "id": "97c2d997",
   "metadata": {},
   "source": [
    "# LIST"
   ]
  },
  {
   "cell_type": "code",
   "execution_count": 13,
   "id": "5763d355",
   "metadata": {},
   "outputs": [],
   "source": [
    "items = ['Banana', 'Apple', 'Orange', 'Lemon']"
   ]
  },
  {
   "cell_type": "code",
   "execution_count": 14,
   "id": "aca929d0",
   "metadata": {},
   "outputs": [
    {
     "name": "stdout",
     "output_type": "stream",
     "text": [
      "['Banana', 'Apple', 'Orange', 'Lemon', 'Pear']\n"
     ]
    }
   ],
   "source": [
    "# how to adda new value to a list\n",
    "items.append('Pear') # append will add the new value at the end of the existing list\n",
    "print(items)"
   ]
  },
  {
   "cell_type": "code",
   "execution_count": 15,
   "id": "2ad9b232",
   "metadata": {},
   "outputs": [
    {
     "name": "stdout",
     "output_type": "stream",
     "text": [
      "['Banana', 'Apple', 'Strawberry', 'Orange', 'Lemon', 'Pear']\n"
     ]
    }
   ],
   "source": [
    "items.insert(2,'Strawberry') # insert helps specify the exact location you want the value to be\n",
    "print(items)            "
   ]
  },
  {
   "cell_type": "code",
   "execution_count": 16,
   "id": "dd1648ed",
   "metadata": {},
   "outputs": [
    {
     "name": "stdout",
     "output_type": "stream",
     "text": [
      "['Banana', 'Apple', 'Strawberry', 'Orange', 'Lemon', 'Pear', 'Lemon', 'Pear', 'Coconut']\n"
     ]
    }
   ],
   "source": [
    "f = ['Lemon', 'Pear', 'Coconut']\n",
    "items.extend(f) # extend will add all the values from the existing list to the present working list\n",
    "print(items)"
   ]
  },
  {
   "cell_type": "code",
   "execution_count": 17,
   "id": "92929e67",
   "metadata": {},
   "outputs": [
    {
     "name": "stdout",
     "output_type": "stream",
     "text": [
      "['Banana', 'Apple', 'Strawberry', 'Orange', 'Pear', 'Lemon', 'Pear', 'Coconut']\n"
     ]
    }
   ],
   "source": [
    "# how to reduce a value from a list\n",
    "items.pop(4) # pop will remove a value on a specified index location\n",
    "print(items)"
   ]
  },
  {
   "cell_type": "code",
   "execution_count": 18,
   "id": "ecbf0e18",
   "metadata": {},
   "outputs": [
    {
     "name": "stdout",
     "output_type": "stream",
     "text": [
      "['Banana', 'Apple', 'Strawberry', 'Orange', 'Pear', 'Pear', 'Coconut']\n"
     ]
    }
   ],
   "source": [
    "items.remove('Lemon') # remove will drop the specified value\n",
    "print(items)"
   ]
  },
  {
   "cell_type": "code",
   "execution_count": 19,
   "id": "7cdc8ee2",
   "metadata": {},
   "outputs": [
    {
     "name": "stdout",
     "output_type": "stream",
     "text": [
      "['Apple', 'Banana', 'Coconut', 'Orange', 'Pear', 'Pear', 'Strawberry']\n"
     ]
    }
   ],
   "source": [
    "# how to sort a value from alist, Ascending order\n",
    "items.sort()\n",
    "print(items)"
   ]
  },
  {
   "cell_type": "code",
   "execution_count": 20,
   "id": "febd6158",
   "metadata": {},
   "outputs": [
    {
     "name": "stdout",
     "output_type": "stream",
     "text": [
      "['Strawberry', 'Pear', 'Pear', 'Orange', 'Coconut', 'Banana', 'Apple']\n"
     ]
    }
   ],
   "source": [
    "items.reverse() # descending order\n",
    "print(items)"
   ]
  },
  {
   "cell_type": "code",
   "execution_count": 21,
   "id": "295f9c2d",
   "metadata": {},
   "outputs": [
    {
     "name": "stdout",
     "output_type": "stream",
     "text": [
      "['Strawberry', 'Pear', 'Pear', 'Orange', 'Coconut', 'Banana', 'Apple']\n"
     ]
    }
   ],
   "source": [
    "items_copy = items.copy()\n",
    "print(items_copy)"
   ]
  },
  {
   "cell_type": "code",
   "execution_count": null,
   "id": "80224308",
   "metadata": {},
   "outputs": [],
   "source": []
  }
 ],
 "metadata": {
  "kernelspec": {
   "display_name": "Python 3 (ipykernel)",
   "language": "python",
   "name": "python3"
  },
  "language_info": {
   "codemirror_mode": {
    "name": "ipython",
    "version": 3
   },
   "file_extension": ".py",
   "mimetype": "text/x-python",
   "name": "python",
   "nbconvert_exporter": "python",
   "pygments_lexer": "ipython3",
   "version": "3.11.5"
  }
 },
 "nbformat": 4,
 "nbformat_minor": 5
}
