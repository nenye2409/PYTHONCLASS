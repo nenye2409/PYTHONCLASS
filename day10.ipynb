{
 "cells": [
  {
   "cell_type": "code",
   "execution_count": 3,
   "id": "ae4e0d28",
   "metadata": {},
   "outputs": [
    {
     "name": "stdout",
     "output_type": "stream",
     "text": [
      "Enter Number One:45\n",
      "Enter Number TWo:op\n",
      "You have encountered one or more error\n"
     ]
    }
   ],
   "source": [
    "try: \n",
    "    mun1 = int(input('Enter Number One:'))\n",
    "    num2 = int(input('Enter Number TWo:'))\n",
    "except:\n",
    "    print('You have encountered one or more error')"
   ]
  },
  {
   "cell_type": "code",
   "execution_count": 12,
   "id": "14ffc6f9",
   "metadata": {},
   "outputs": [
    {
     "name": "stdout",
     "output_type": "stream",
     "text": [
      "Enter Number One:13\n",
      "Enter Number TWo:65\n",
      "Choose your operation[+,-,/,*]:-\n",
      "13 - 65 = -52\n"
     ]
    }
   ],
   "source": [
    "try: \n",
    "    num1 = int(input('Enter Number One:'))\n",
    "    num2 = int(input('Enter Number TWo:'))\n",
    "    operation = input('Choose your operation[+,-,/,*]:')\n",
    "    if operation == '+':\n",
    "        print(f'{num1} + {num2} = {num1 + num2}')\n",
    "    elif operation == '-':\n",
    "        print(f'{num1} - {num2} = {num1 - num2}')      \n",
    "    elif operation == '/':\n",
    "        print(f'{num1} / {num2} = {num1 / num2}')\n",
    "    elif operation == '*':\n",
    "        print(f'{num1} * {num2} = {num1 * num2}')\n",
    "except ValueError:\n",
    "    print('Wrong value,only whole numbers is expected')\n",
    "except ZeroDivisionError:\n",
    "    print('You cannot divide a number by zero')\n",
    "except:\n",
    "    print('You have encountered one or more error')"
   ]
  },
  {
   "cell_type": "code",
   "execution_count": 43,
   "id": "9e81974f",
   "metadata": {},
   "outputs": [
    {
     "name": "stdout",
     "output_type": "stream",
     "text": [
      "Enter item weight: 75.8\n",
      "Enter item condition: fragile\n",
      "Enter item destination: Region3\n"
     ]
    },
    {
     "data": {
      "text/plain": [
       "'The totalcost is 1061.2'"
      ]
     },
     "execution_count": 43,
     "metadata": {},
     "output_type": "execute_result"
    }
   ],
   "source": [
    "def calculate_shipping_cost(weight,item_condition,destination):\n",
    "    shipping_rates = {\n",
    "        'Region1' : 5,\n",
    "        'Region2' :7,\n",
    "        'Region3' :9,\n",
    "        'Region4' :11}\n",
    "    condition_charge = 0\n",
    "    if item_condition == 'fragile':\n",
    "        condition_charge = 5\n",
    "    elif item_condition == 'flammable':\n",
    "        condition_charge = 8\n",
    "    shipping_rate = shipping_rates.get(destination,0)\n",
    "    totalcost = (shipping_rate + condition_charge)*weight\n",
    "    return f'The totalcost is {totalcost}'\n",
    "\n",
    "weight = float(input('Enter item weight: '))\n",
    "item_condition = input('Enter item condition: ')\n",
    "destination = input('Enter item destination: ')\n",
    "calculate_shipping_cost(weight,item_condition,destination)"
   ]
  },
  {
   "cell_type": "code",
   "execution_count": 46,
   "id": "8ac6b1d4",
   "metadata": {},
   "outputs": [
    {
     "name": "stdout",
     "output_type": "stream",
     "text": [
      "Enter item weight: 45.8\n",
      "Enter item condition: fragile\n",
      "Enter item destination: Region3\n",
      "End of program\n"
     ]
    }
   ],
   "source": [
    "# how to detect error\n",
    "try:\n",
    "    def calculate_shipping_cost(weight,item_condition,destination):\n",
    "        shipping_rates = {\n",
    "            'Region1' : 5,\n",
    "            'Region2' :7,\n",
    "            'Region3' :9,\n",
    "            'Region4' :11}\n",
    "        condition_charge = 0\n",
    "        if item_condition == 'fragile':\n",
    "            condition_charge = 5\n",
    "        elif item_condition == 'flammable':\n",
    "            condition_charge = 8\n",
    "        shipping_rate = shipping_rates.get(destination,0)\n",
    "        totalcost = (shipping_rate + condition_charge)*weight\n",
    "        return f'The totalcost is {totalcost}'\n",
    "except KeyError:\n",
    "    print('Key does not exist')\n",
    "except:\n",
    "    print('You have encountered many errors')\n",
    "else:\n",
    "    try:\n",
    "        weight = float(input('Enter item weight: '))\n",
    "        item_condition = input('Enter item condition: ')\n",
    "        destination = input('Enter item destination: ')\n",
    "    except ValueError:\n",
    "        print('Only float or integer value for weight')\n",
    "\n",
    "finally:\n",
    "    calculate_shipping_cost(weight,item_condition,destination)\n",
    "    print('End of program')"
   ]
  },
  {
   "cell_type": "code",
   "execution_count": 1,
   "id": "88646f46",
   "metadata": {},
   "outputs": [
    {
     "name": "stdout",
     "output_type": "stream",
     "text": [
      "Enter item weight: 65\n",
      "Enter item condition: fragile\n",
      "Enter item destination: Region2\n",
      "The total cost is 780.0\n",
      "End of program\n"
     ]
    }
   ],
   "source": [
    "def calculate_shipping_cost(weight, item_condition, destination):\n",
    "    shipping_rates = {\n",
    "        'Region1': 5,\n",
    "        'Region2': 7,\n",
    "        'Region3': 9,\n",
    "        'Region4': 11}\n",
    "    condition_charge = 0\n",
    "    if item_condition == 'fragile':\n",
    "        condition_charge = 5\n",
    "    elif item_condition == 'flammable':\n",
    "        condition_charge = 8\n",
    "    shipping_rate = shipping_rates.get(destination, 0)\n",
    "    totalcost = (shipping_rate + condition_charge) * weight\n",
    "    return f'The total cost is {totalcost}'\n",
    "\n",
    "try:\n",
    "    weight = float(input('Enter item weight: '))\n",
    "    item_condition = input('Enter item condition: ')\n",
    "    destination = input('Enter item destination: ')\n",
    "except ValueError:\n",
    "    print('Only float or integer value for weight')\n",
    "    # Exit the program or handle the error as needed\n",
    "\n",
    "try:\n",
    "    result = calculate_shipping_cost(weight, item_condition, destination)\n",
    "    print(result)\n",
    "except KeyError:\n",
    "    print('Key does not exist')\n",
    "except Exception as e:\n",
    "    print(f'An error occurred: {e}')\n",
    "\n",
    "finally:\n",
    "    print('End of program')\n"
   ]
  },
  {
   "cell_type": "code",
   "execution_count": null,
   "id": "5f5b547a",
   "metadata": {},
   "outputs": [],
   "source": []
  }
 ],
 "metadata": {
  "kernelspec": {
   "display_name": "Python 3 (ipykernel)",
   "language": "python",
   "name": "python3"
  },
  "language_info": {
   "codemirror_mode": {
    "name": "ipython",
    "version": 3
   },
   "file_extension": ".py",
   "mimetype": "text/x-python",
   "name": "python",
   "nbconvert_exporter": "python",
   "pygments_lexer": "ipython3",
   "version": "3.11.5"
  }
 },
 "nbformat": 4,
 "nbformat_minor": 5
}
